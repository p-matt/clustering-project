{
 "cells": [
  {
   "cell_type": "markdown",
   "id": "auburn-machine",
   "metadata": {},
   "source": [
    "# **Imports**"
   ]
  },
  {
   "cell_type": "code",
   "execution_count": 1,
   "id": "impaired-growing",
   "metadata": {},
   "outputs": [],
   "source": [
    "from pandas import read_csv\n",
    "import pandas as pd\n",
    "import seaborn as sns\n",
    "import matplotlib.pyplot as plt\n",
    "from scipy import stats\n",
    "import numpy as np\n",
    "from sklearn import preprocessing"
   ]
  },
  {
   "cell_type": "code",
   "execution_count": 2,
   "id": "central-retrieval",
   "metadata": {},
   "outputs": [],
   "source": [
    "DATA_PATH = 'data/'\n",
    "DATASETS = ['olist_customers_dataset.csv',\n",
    "           'olist_geolocation_dataset.csv', \n",
    "           'olist_order_items_dataset.csv', \n",
    "           'olist_order_payments_dataset.csv']\n",
    "\n",
    "datasets = [\"olist_order_reviews_dataset\", \n",
    "            \"olist_orders_dataset\", \n",
    "            \"olist_products_dataset\", \n",
    "            \"olist_sellers_dataset\", \n",
    "            \"product_category_name_translation\"]"
   ]
  },
  {
   "cell_type": "code",
   "execution_count": 3,
   "id": "applicable-donor",
   "metadata": {},
   "outputs": [],
   "source": [
    "customers = read_csv(DATA_PATH + DATASETS[0])\n",
    "geolocation = read_csv(DATA_PATH + DATASETS[1])\n",
    "items = read_csv(DATA_PATH + DATASETS[2])\n",
    "payments = read_csv(DATA_PATH + DATASETS[3])"
   ]
  },
  {
   "cell_type": "markdown",
   "id": "white-oxygen",
   "metadata": {},
   "source": [
    "On constate que les bases de données des commandes et des objets en magasin sont centrales\n",
    "\n",
    "# **Pré-process**\n",
    "\n",
    "## Customers\n",
    "\n",
    "La table des clients regroupe:\n",
    "\n",
    "* L'id des clients\n",
    "* L'id unique des clients \n",
    "* Le code postal du client\n",
    "* La ville du client\n",
    "* L'Etat du client\n",
    "\n",
    "La variable qui nous intéressent ici est l'Etat du client"
   ]
  },
  {
   "cell_type": "code",
   "execution_count": 4,
   "id": "fourth-advocacy",
   "metadata": {},
   "outputs": [
    {
     "data": {
      "text/plain": "0"
     },
     "execution_count": 4,
     "metadata": {},
     "output_type": "execute_result"
    }
   ],
   "source": [
    "customers.duplicated().sum()\n",
    "# No duplication of data"
   ]
  },
  {
   "cell_type": "code",
   "execution_count": 5,
   "id": "neutral-fellow",
   "metadata": {},
   "outputs": [
    {
     "data": {
      "text/plain": "customer_id                 0\ncustomer_unique_id          0\ncustomer_zip_code_prefix    0\ncustomer_city               0\ncustomer_state              0\ndtype: int64"
     },
     "execution_count": 5,
     "metadata": {},
     "output_type": "execute_result"
    }
   ],
   "source": [
    "customers.isna().sum()\n",
    "# No missing data"
   ]
  },
  {
   "cell_type": "code",
   "execution_count": 6,
   "id": "radical-dance",
   "metadata": {},
   "outputs": [
    {
     "data": {
      "text/plain": "                        customer_id                customer_unique_id  \\\n0  06b8999e2fba1a1fbc88172c00ba8bc7  861eff4711a542e4b93843c6dd7febb0   \n1  18955e83d337fd6b2def6b18a428ac77  290c77bc529b7ac935b93aa66c333dc3   \n2  4e7b3e00288586ebd08712fdd0374a03  060e732b5b29e8181a18229c7b0b2b5e   \n3  b2b6027bc5c5109e529d4dc6358b12c3  259dac757896d24d7702b9acbbff3f3c   \n4  4f2d8ab171c80ec8364f7c12e35b23ad  345ecd01c38d18a9036ed96c73b8d066   \n\n   customer_zip_code_prefix          customer_city customer_state  \n0                     14409                 franca             SP  \n1                      9790  sao bernardo do campo             SP  \n2                      1151              sao paulo             SP  \n3                      8775        mogi das cruzes             SP  \n4                     13056               campinas             SP  ",
      "text/html": "<div>\n<style scoped>\n    .dataframe tbody tr th:only-of-type {\n        vertical-align: middle;\n    }\n\n    .dataframe tbody tr th {\n        vertical-align: top;\n    }\n\n    .dataframe thead th {\n        text-align: right;\n    }\n</style>\n<table border=\"1\" class=\"dataframe\">\n  <thead>\n    <tr style=\"text-align: right;\">\n      <th></th>\n      <th>customer_id</th>\n      <th>customer_unique_id</th>\n      <th>customer_zip_code_prefix</th>\n      <th>customer_city</th>\n      <th>customer_state</th>\n    </tr>\n  </thead>\n  <tbody>\n    <tr>\n      <th>0</th>\n      <td>06b8999e2fba1a1fbc88172c00ba8bc7</td>\n      <td>861eff4711a542e4b93843c6dd7febb0</td>\n      <td>14409</td>\n      <td>franca</td>\n      <td>SP</td>\n    </tr>\n    <tr>\n      <th>1</th>\n      <td>18955e83d337fd6b2def6b18a428ac77</td>\n      <td>290c77bc529b7ac935b93aa66c333dc3</td>\n      <td>9790</td>\n      <td>sao bernardo do campo</td>\n      <td>SP</td>\n    </tr>\n    <tr>\n      <th>2</th>\n      <td>4e7b3e00288586ebd08712fdd0374a03</td>\n      <td>060e732b5b29e8181a18229c7b0b2b5e</td>\n      <td>1151</td>\n      <td>sao paulo</td>\n      <td>SP</td>\n    </tr>\n    <tr>\n      <th>3</th>\n      <td>b2b6027bc5c5109e529d4dc6358b12c3</td>\n      <td>259dac757896d24d7702b9acbbff3f3c</td>\n      <td>8775</td>\n      <td>mogi das cruzes</td>\n      <td>SP</td>\n    </tr>\n    <tr>\n      <th>4</th>\n      <td>4f2d8ab171c80ec8364f7c12e35b23ad</td>\n      <td>345ecd01c38d18a9036ed96c73b8d066</td>\n      <td>13056</td>\n      <td>campinas</td>\n      <td>SP</td>\n    </tr>\n  </tbody>\n</table>\n</div>"
     },
     "execution_count": 6,
     "metadata": {},
     "output_type": "execute_result"
    }
   ],
   "source": [
    "customers.head()"
   ]
  },
  {
   "cell_type": "code",
   "execution_count": 7,
   "id": "continued-tours",
   "metadata": {},
   "outputs": [
    {
     "data": {
      "text/plain": "array(['franca', 'sao bernardo do campo', 'sao paulo', ...,\n       'monte bonito', 'sao rafael', 'eugenio de castro'], dtype=object)"
     },
     "execution_count": 7,
     "metadata": {},
     "output_type": "execute_result"
    }
   ],
   "source": [
    "customers.customer_city.unique()"
   ]
  },
  {
   "cell_type": "markdown",
   "id": "negative-apartment",
   "metadata": {},
   "source": [
    "La ville comporte beaucoup trop de valeurs uniques pour être convertie en variables catégorielles. La variable \"state\" est plus adaptée, elle comporte tout de meme 27 valeurs uniques mais il est nécessaire que l'on ait au moins une donnée sur la localisation des clients. "
   ]
  },
  {
   "cell_type": "code",
   "execution_count": 8,
   "id": "minimal-conflict",
   "metadata": {},
   "outputs": [],
   "source": [
    "customers['state_cat'] = customers['customer_state'].astype('category')"
   ]
  },
  {
   "cell_type": "code",
   "execution_count": 9,
   "id": "embedded-square",
   "metadata": {},
   "outputs": [
    {
     "data": {
      "text/plain": "customer_state\nSP    41746\nRJ    12852\nMG    11635\nRS     5466\nPR     5045\nSC     3637\nBA     3380\nDF     2140\nES     2033\nGO     2020\nPE     1652\nCE     1336\nPA      975\nMT      907\nMA      747\nMS      715\nPB      536\nPI      495\nRN      485\nAL      413\nSE      350\nTO      280\nRO      253\nAM      148\nAC       81\nAP       68\nRR       46\nName: customer_id, dtype: int64"
     },
     "execution_count": 9,
     "metadata": {},
     "output_type": "execute_result"
    }
   ],
   "source": [
    "state = customers.groupby(by='customer_state').count().customer_id.sort_values(ascending=False)\n",
    "state\n",
    "# Many customers in Sao Paolo"
   ]
  },
  {
   "cell_type": "code",
   "execution_count": 10,
   "id": "moved-rehabilitation",
   "metadata": {},
   "outputs": [
    {
     "data": {
      "text/plain": "41.980671956235355"
     },
     "execution_count": 10,
     "metadata": {},
     "output_type": "execute_result"
    }
   ],
   "source": [
    "(state.SP/state.sum())*100"
   ]
  },
  {
   "cell_type": "markdown",
   "id": "stuffed-financing",
   "metadata": {},
   "source": [
    "41% des clients sont regroupés dans l'Etat de Sao-Paolo"
   ]
  },
  {
   "cell_type": "markdown",
   "id": "boring-afghanistan",
   "metadata": {},
   "source": [
    "## Geoloc\n",
    "\n",
    "Cette table regroupe la géolocalisation des codes postaux des clients\n",
    "\n",
    "Cette table sera surtout utile pour analyser les client post-clustering"
   ]
  },
  {
   "cell_type": "code",
   "execution_count": 11,
   "id": "everyday-receiver",
   "metadata": {},
   "outputs": [
    {
     "data": {
      "text/plain": "261831"
     },
     "execution_count": 11,
     "metadata": {},
     "output_type": "execute_result"
    }
   ],
   "source": [
    "geolocation.duplicated().sum()"
   ]
  },
  {
   "cell_type": "markdown",
   "id": "oriented-cedar",
   "metadata": {},
   "source": [
    "26.17% of data is duplicated"
   ]
  },
  {
   "cell_type": "code",
   "execution_count": 12,
   "id": "strange-delay",
   "metadata": {},
   "outputs": [],
   "source": [
    "geolocation.drop_duplicates(inplace=True)"
   ]
  },
  {
   "cell_type": "code",
   "execution_count": 13,
   "id": "defined-confusion",
   "metadata": {},
   "outputs": [
    {
     "data": {
      "text/plain": "geolocation_zip_code_prefix    0\ngeolocation_lat                0\ngeolocation_lng                0\ngeolocation_city               0\ngeolocation_state              0\ndtype: int64"
     },
     "execution_count": 13,
     "metadata": {},
     "output_type": "execute_result"
    }
   ],
   "source": [
    "geolocation.isna().sum()"
   ]
  },
  {
   "cell_type": "code",
   "execution_count": 14,
   "id": "convertible-movie",
   "metadata": {},
   "outputs": [
    {
     "data": {
      "text/plain": "   geolocation_zip_code_prefix  geolocation_lat  geolocation_lng  \\\n0                         1037       -23.545621       -46.639292   \n1                         1046       -23.546081       -46.644820   \n2                         1046       -23.546129       -46.642951   \n3                         1041       -23.544392       -46.639499   \n4                         1035       -23.541578       -46.641607   \n\n  geolocation_city geolocation_state  \n0        sao paulo                SP  \n1        sao paulo                SP  \n2        sao paulo                SP  \n3        sao paulo                SP  \n4        sao paulo                SP  ",
      "text/html": "<div>\n<style scoped>\n    .dataframe tbody tr th:only-of-type {\n        vertical-align: middle;\n    }\n\n    .dataframe tbody tr th {\n        vertical-align: top;\n    }\n\n    .dataframe thead th {\n        text-align: right;\n    }\n</style>\n<table border=\"1\" class=\"dataframe\">\n  <thead>\n    <tr style=\"text-align: right;\">\n      <th></th>\n      <th>geolocation_zip_code_prefix</th>\n      <th>geolocation_lat</th>\n      <th>geolocation_lng</th>\n      <th>geolocation_city</th>\n      <th>geolocation_state</th>\n    </tr>\n  </thead>\n  <tbody>\n    <tr>\n      <th>0</th>\n      <td>1037</td>\n      <td>-23.545621</td>\n      <td>-46.639292</td>\n      <td>sao paulo</td>\n      <td>SP</td>\n    </tr>\n    <tr>\n      <th>1</th>\n      <td>1046</td>\n      <td>-23.546081</td>\n      <td>-46.644820</td>\n      <td>sao paulo</td>\n      <td>SP</td>\n    </tr>\n    <tr>\n      <th>2</th>\n      <td>1046</td>\n      <td>-23.546129</td>\n      <td>-46.642951</td>\n      <td>sao paulo</td>\n      <td>SP</td>\n    </tr>\n    <tr>\n      <th>3</th>\n      <td>1041</td>\n      <td>-23.544392</td>\n      <td>-46.639499</td>\n      <td>sao paulo</td>\n      <td>SP</td>\n    </tr>\n    <tr>\n      <th>4</th>\n      <td>1035</td>\n      <td>-23.541578</td>\n      <td>-46.641607</td>\n      <td>sao paulo</td>\n      <td>SP</td>\n    </tr>\n  </tbody>\n</table>\n</div>"
     },
     "execution_count": 14,
     "metadata": {},
     "output_type": "execute_result"
    }
   ],
   "source": [
    "geolocation.head()"
   ]
  },
  {
   "cell_type": "code",
   "execution_count": 15,
   "id": "capable-webster",
   "metadata": {},
   "outputs": [
    {
     "data": {
      "text/plain": "(19015,)"
     },
     "execution_count": 15,
     "metadata": {},
     "output_type": "execute_result"
    }
   ],
   "source": [
    "geolocation.geolocation_zip_code_prefix.unique().shape"
   ]
  },
  {
   "cell_type": "code",
   "execution_count": 16,
   "id": "turned-pencil",
   "metadata": {},
   "outputs": [
    {
     "data": {
      "text/plain": "(738332, 5)"
     },
     "execution_count": 16,
     "metadata": {},
     "output_type": "execute_result"
    }
   ],
   "source": [
    "geolocation.shape"
   ]
  },
  {
   "cell_type": "markdown",
   "id": "necessary-education",
   "metadata": {},
   "source": [
    "## Items\n",
    "\n",
    "Cette table regroupe les informations des commandes \n",
    "\n",
    "* l'id de la commande\n",
    "* **order_item_id** : Nombre d'articles du panier.\n",
    "* l'id produit (article)\n",
    "* id du vendeur\n",
    "* date limite d'envoi pour le venduer\n",
    "* price \n",
    "* frais de port\n",
    "\n",
    "Les variables qui nous intéressent ici sont \n",
    "* price\n",
    "* frais de port\n",
    "* order_item_id"
   ]
  },
  {
   "cell_type": "code",
   "execution_count": 17,
   "id": "integral-relative",
   "metadata": {},
   "outputs": [
    {
     "data": {
      "text/plain": "Index(['order_id', 'order_item_id', 'product_id', 'seller_id',\n       'shipping_limit_date', 'price', 'freight_value'],\n      dtype='object')"
     },
     "execution_count": 17,
     "metadata": {},
     "output_type": "execute_result"
    }
   ],
   "source": [
    "items.columns\n",
    "# Freight value ?\n",
    "# Prix du freight = cout du transport"
   ]
  },
  {
   "cell_type": "code",
   "execution_count": 18,
   "id": "necessary-language",
   "metadata": {},
   "outputs": [
    {
     "data": {
      "text/plain": "                           order_id  order_item_id  \\\n0  00010242fe8c5a6d1ba2dd792cb16214              1   \n1  00018f77f2f0320c557190d7a144bdd3              1   \n2  000229ec398224ef6ca0657da4fc703e              1   \n3  00024acbcdf0a6daa1e931b038114c75              1   \n4  00042b26cf59d7ce69dfabb4e55b4fd9              1   \n\n                         product_id                         seller_id  \\\n0  4244733e06e7ecb4970a6e2683c13e61  48436dade18ac8b2bce089ec2a041202   \n1  e5f2d52b802189ee658865ca93d83a8f  dd7ddc04e1b6c2c614352b383efe2d36   \n2  c777355d18b72b67abbeef9df44fd0fd  5b51032eddd242adc84c38acab88f23d   \n3  7634da152a4610f1595efa32f14722fc  9d7a1d34a5052409006425275ba1c2b4   \n4  ac6c3623068f30de03045865e4e10089  df560393f3a51e74553ab94004ba5c87   \n\n   shipping_limit_date   price  freight_value  \n0  2017-09-19 09:45:35   58.90          13.29  \n1  2017-05-03 11:05:13  239.90          19.93  \n2  2018-01-18 14:48:30  199.00          17.87  \n3  2018-08-15 10:10:18   12.99          12.79  \n4  2017-02-13 13:57:51  199.90          18.14  ",
      "text/html": "<div>\n<style scoped>\n    .dataframe tbody tr th:only-of-type {\n        vertical-align: middle;\n    }\n\n    .dataframe tbody tr th {\n        vertical-align: top;\n    }\n\n    .dataframe thead th {\n        text-align: right;\n    }\n</style>\n<table border=\"1\" class=\"dataframe\">\n  <thead>\n    <tr style=\"text-align: right;\">\n      <th></th>\n      <th>order_id</th>\n      <th>order_item_id</th>\n      <th>product_id</th>\n      <th>seller_id</th>\n      <th>shipping_limit_date</th>\n      <th>price</th>\n      <th>freight_value</th>\n    </tr>\n  </thead>\n  <tbody>\n    <tr>\n      <th>0</th>\n      <td>00010242fe8c5a6d1ba2dd792cb16214</td>\n      <td>1</td>\n      <td>4244733e06e7ecb4970a6e2683c13e61</td>\n      <td>48436dade18ac8b2bce089ec2a041202</td>\n      <td>2017-09-19 09:45:35</td>\n      <td>58.90</td>\n      <td>13.29</td>\n    </tr>\n    <tr>\n      <th>1</th>\n      <td>00018f77f2f0320c557190d7a144bdd3</td>\n      <td>1</td>\n      <td>e5f2d52b802189ee658865ca93d83a8f</td>\n      <td>dd7ddc04e1b6c2c614352b383efe2d36</td>\n      <td>2017-05-03 11:05:13</td>\n      <td>239.90</td>\n      <td>19.93</td>\n    </tr>\n    <tr>\n      <th>2</th>\n      <td>000229ec398224ef6ca0657da4fc703e</td>\n      <td>1</td>\n      <td>c777355d18b72b67abbeef9df44fd0fd</td>\n      <td>5b51032eddd242adc84c38acab88f23d</td>\n      <td>2018-01-18 14:48:30</td>\n      <td>199.00</td>\n      <td>17.87</td>\n    </tr>\n    <tr>\n      <th>3</th>\n      <td>00024acbcdf0a6daa1e931b038114c75</td>\n      <td>1</td>\n      <td>7634da152a4610f1595efa32f14722fc</td>\n      <td>9d7a1d34a5052409006425275ba1c2b4</td>\n      <td>2018-08-15 10:10:18</td>\n      <td>12.99</td>\n      <td>12.79</td>\n    </tr>\n    <tr>\n      <th>4</th>\n      <td>00042b26cf59d7ce69dfabb4e55b4fd9</td>\n      <td>1</td>\n      <td>ac6c3623068f30de03045865e4e10089</td>\n      <td>df560393f3a51e74553ab94004ba5c87</td>\n      <td>2017-02-13 13:57:51</td>\n      <td>199.90</td>\n      <td>18.14</td>\n    </tr>\n  </tbody>\n</table>\n</div>"
     },
     "execution_count": 18,
     "metadata": {},
     "output_type": "execute_result"
    }
   ],
   "source": [
    "items.head()"
   ]
  },
  {
   "cell_type": "code",
   "execution_count": 19,
   "id": "saving-register",
   "metadata": {},
   "outputs": [],
   "source": [
    "# On convertit la colonne des dates d'une chaine de caractère au format datetime\n",
    "\n",
    "items.loc[:, 'shipping_limit_date'] = items.shipping_limit_date.apply(pd.to_datetime)"
   ]
  },
  {
   "cell_type": "code",
   "execution_count": 20,
   "id": "hungry-headline",
   "metadata": {},
   "outputs": [
    {
     "data": {
      "text/plain": "order_id               0.0\norder_item_id          0.0\nproduct_id             0.0\nseller_id              0.0\nshipping_limit_date    0.0\nprice                  0.0\nfreight_value          0.0\ndtype: float64"
     },
     "execution_count": 20,
     "metadata": {},
     "output_type": "execute_result"
    }
   ],
   "source": [
    "items.isna().mean()"
   ]
  },
  {
   "cell_type": "code",
   "execution_count": 21,
   "id": "amazing-bradford",
   "metadata": {},
   "outputs": [
    {
     "data": {
      "text/plain": "0"
     },
     "execution_count": 21,
     "metadata": {},
     "output_type": "execute_result"
    }
   ],
   "source": [
    "items.duplicated().sum()"
   ]
  },
  {
   "cell_type": "code",
   "execution_count": 22,
   "id": "dramatic-consortium",
   "metadata": {},
   "outputs": [
    {
     "data": {
      "text/plain": "                  price  freight_value\nprice          1.000000       0.414204\nfreight_value  0.414204       1.000000",
      "text/html": "<div>\n<style scoped>\n    .dataframe tbody tr th:only-of-type {\n        vertical-align: middle;\n    }\n\n    .dataframe tbody tr th {\n        vertical-align: top;\n    }\n\n    .dataframe thead th {\n        text-align: right;\n    }\n</style>\n<table border=\"1\" class=\"dataframe\">\n  <thead>\n    <tr style=\"text-align: right;\">\n      <th></th>\n      <th>price</th>\n      <th>freight_value</th>\n    </tr>\n  </thead>\n  <tbody>\n    <tr>\n      <th>price</th>\n      <td>1.000000</td>\n      <td>0.414204</td>\n    </tr>\n    <tr>\n      <th>freight_value</th>\n      <td>0.414204</td>\n      <td>1.000000</td>\n    </tr>\n  </tbody>\n</table>\n</div>"
     },
     "execution_count": 22,
     "metadata": {},
     "output_type": "execute_result"
    }
   ],
   "source": [
    "items[['price', 'freight_value']].corr()\n",
    "# IL y a une corrélation entre le prix et les frais de port"
   ]
  },
  {
   "cell_type": "code",
   "execution_count": 23,
   "id": "breeding-period",
   "metadata": {},
   "outputs": [
    {
     "data": {
      "text/plain": "               price  freight_value\ncount  112650.000000  112650.000000\nmean      120.653739      19.990320\nstd       183.633928      15.806405\nmin         0.850000       0.000000\n25%        39.900000      13.080000\n50%        74.990000      16.260000\n75%       134.900000      21.150000\nmax      6735.000000     409.680000",
      "text/html": "<div>\n<style scoped>\n    .dataframe tbody tr th:only-of-type {\n        vertical-align: middle;\n    }\n\n    .dataframe tbody tr th {\n        vertical-align: top;\n    }\n\n    .dataframe thead th {\n        text-align: right;\n    }\n</style>\n<table border=\"1\" class=\"dataframe\">\n  <thead>\n    <tr style=\"text-align: right;\">\n      <th></th>\n      <th>price</th>\n      <th>freight_value</th>\n    </tr>\n  </thead>\n  <tbody>\n    <tr>\n      <th>count</th>\n      <td>112650.000000</td>\n      <td>112650.000000</td>\n    </tr>\n    <tr>\n      <th>mean</th>\n      <td>120.653739</td>\n      <td>19.990320</td>\n    </tr>\n    <tr>\n      <th>std</th>\n      <td>183.633928</td>\n      <td>15.806405</td>\n    </tr>\n    <tr>\n      <th>min</th>\n      <td>0.850000</td>\n      <td>0.000000</td>\n    </tr>\n    <tr>\n      <th>25%</th>\n      <td>39.900000</td>\n      <td>13.080000</td>\n    </tr>\n    <tr>\n      <th>50%</th>\n      <td>74.990000</td>\n      <td>16.260000</td>\n    </tr>\n    <tr>\n      <th>75%</th>\n      <td>134.900000</td>\n      <td>21.150000</td>\n    </tr>\n    <tr>\n      <th>max</th>\n      <td>6735.000000</td>\n      <td>409.680000</td>\n    </tr>\n  </tbody>\n</table>\n</div>"
     },
     "execution_count": 23,
     "metadata": {},
     "output_type": "execute_result"
    }
   ],
   "source": [
    "items[['price', 'freight_value']].describe()"
   ]
  },
  {
   "cell_type": "code",
   "execution_count": 24,
   "id": "decent-indie",
   "metadata": {},
   "outputs": [
    {
     "data": {
      "text/plain": "<Figure size 1512x288 with 1 Axes>",
      "image/png": "[encoded data removed]"
     },
     "metadata": {
      "needs_background": "light"
     },
     "output_type": "display_data"
    }
   ],
   "source": [
    "sns.histplot(items.price)\n",
    "fig = plt.gcf()\n",
    "fig.set_size_inches(21, 4)"
   ]
  },
  {
   "cell_type": "code",
   "execution_count": 25,
   "id": "european-davis",
   "metadata": {},
   "outputs": [
    {
     "data": {
      "text/plain": "<Figure size 1512x288 with 1 Axes>",
      "image/png": "[encoded data removed]"
     },
     "metadata": {
      "needs_background": "light"
     },
     "output_type": "display_data"
    }
   ],
   "source": [
    "sns.histplot(items.price).set_xscale('log')\n",
    "fig = plt.gcf()\n",
    "fig.set_size_inches(21, 4)"
   ]
  },
  {
   "cell_type": "code",
   "execution_count": 26,
   "id": "according-dietary",
   "metadata": {},
   "outputs": [],
   "source": [
    "import math\n",
    "\n",
    "items['log_price'] = items['price'].transform(math.log)"
   ]
  },
  {
   "cell_type": "markdown",
   "id": "distinguished-vermont",
   "metadata": {},
   "source": [
    "On voit que l'on peut passer ces données en log pour que le clustering soit plus efficace. "
   ]
  },
  {
   "cell_type": "code",
   "execution_count": 27,
   "id": "constant-environment",
   "metadata": {},
   "outputs": [
    {
     "data": {
      "text/plain": "<Figure size 1512x288 with 1 Axes>",
      "image/png": "[encoded data removed]"
     },
     "metadata": {
      "needs_background": "light"
     },
     "output_type": "display_data"
    }
   ],
   "source": [
    "sns.histplot(items.freight_value)\n",
    "fig = plt.gcf()\n",
    "fig.set_size_inches(21, 4)"
   ]
  },
  {
   "cell_type": "code",
   "execution_count": 28,
   "id": "protected-england",
   "metadata": {},
   "outputs": [],
   "source": [
    "def log_transf_0(x):\n",
    "    if x != 0:\n",
    "        return math.log(x)\n",
    "    else:\n",
    "        return x\n",
    "\n",
    "items['log_freight_value'] = items['freight_value'].transform(log_transf_0)\n",
    "# Nous souhaitons garder les observations dans lesquelles les frais de port sont nuls\n",
    "# Cela peut-être une incitation pour le client"
   ]
  },
  {
   "cell_type": "code",
   "execution_count": 29,
   "id": "expanded-mozambique",
   "metadata": {},
   "outputs": [
    {
     "data": {
      "text/plain": "<Figure size 1512x288 with 1 Axes>",
      "image/png": "[encoded data removed]"
     },
     "metadata": {
      "needs_background": "light"
     },
     "output_type": "display_data"
    }
   ],
   "source": [
    "sns.histplot(items.log_freight_value)\n",
    "fig = plt.gcf()\n",
    "fig.set_size_inches(21, 4)"
   ]
  },
  {
   "cell_type": "markdown",
   "id": "hispanic-thomas",
   "metadata": {},
   "source": [
    "## Payments\n",
    "\n",
    "Cette table comporte les commandes des clients\n",
    "\n",
    "* L'ID de la commande\n",
    "* **payment_sequential** : Un client peut choisir de payer avec plus d'un moyen de paiement. Dans ce cas, une séquence sera créée pour accomoder ces paiements.\n",
    "* **payment_type**: Méthode de paiement.\n",
    "* **payment_installments**: Nombre de paiements.\n",
    "* Montant du paiement\n",
    "\n",
    "Il n'y a pas de données sur le client lui-même cela dit, cette information doit être allée chercher dans la table des commandes\n",
    "\n",
    "Les variables qui nous interessent sont:\n",
    "* payment_sequential\n",
    "* payment_type_cat (categorielle)\n",
    "* payment_installments\n",
    "* payment_value"
   ]
  },
  {
   "cell_type": "code",
   "execution_count": 30,
   "id": "listed-azerbaijan",
   "metadata": {},
   "outputs": [
    {
     "data": {
      "text/plain": "                           order_id  payment_sequential payment_type  \\\n0  b81ef226f3fe1789b1e8b2acac839d17                   1  credit_card   \n1  a9810da82917af2d9aefd1278f1dcfa0                   1  credit_card   \n2  25e8ea4e93396b6fa0d3dd708e76c1bd                   1  credit_card   \n3  ba78997921bbcdc1373bb41e913ab953                   1  credit_card   \n4  42fdf880ba16b47b59251dd489d4441a                   1  credit_card   \n\n   payment_installments  payment_value  \n0                     8          99.33  \n1                     1          24.39  \n2                     1          65.71  \n3                     8         107.78  \n4                     2         128.45  ",
      "text/html": "<div>\n<style scoped>\n    .dataframe tbody tr th:only-of-type {\n        vertical-align: middle;\n    }\n\n    .dataframe tbody tr th {\n        vertical-align: top;\n    }\n\n    .dataframe thead th {\n        text-align: right;\n    }\n</style>\n<table border=\"1\" class=\"dataframe\">\n  <thead>\n    <tr style=\"text-align: right;\">\n      <th></th>\n      <th>order_id</th>\n      <th>payment_sequential</th>\n      <th>payment_type</th>\n      <th>payment_installments</th>\n      <th>payment_value</th>\n    </tr>\n  </thead>\n  <tbody>\n    <tr>\n      <th>0</th>\n      <td>b81ef226f3fe1789b1e8b2acac839d17</td>\n      <td>1</td>\n      <td>credit_card</td>\n      <td>8</td>\n      <td>99.33</td>\n    </tr>\n    <tr>\n      <th>1</th>\n      <td>a9810da82917af2d9aefd1278f1dcfa0</td>\n      <td>1</td>\n      <td>credit_card</td>\n      <td>1</td>\n      <td>24.39</td>\n    </tr>\n    <tr>\n      <th>2</th>\n      <td>25e8ea4e93396b6fa0d3dd708e76c1bd</td>\n      <td>1</td>\n      <td>credit_card</td>\n      <td>1</td>\n      <td>65.71</td>\n    </tr>\n    <tr>\n      <th>3</th>\n      <td>ba78997921bbcdc1373bb41e913ab953</td>\n      <td>1</td>\n      <td>credit_card</td>\n      <td>8</td>\n      <td>107.78</td>\n    </tr>\n    <tr>\n      <th>4</th>\n      <td>42fdf880ba16b47b59251dd489d4441a</td>\n      <td>1</td>\n      <td>credit_card</td>\n      <td>2</td>\n      <td>128.45</td>\n    </tr>\n  </tbody>\n</table>\n</div>"
     },
     "execution_count": 30,
     "metadata": {},
     "output_type": "execute_result"
    }
   ],
   "source": [
    "payments.head()"
   ]
  },
  {
   "cell_type": "code",
   "execution_count": 31,
   "id": "engaging-isolation",
   "metadata": {},
   "outputs": [
    {
     "data": {
      "text/plain": "order_id                0\npayment_sequential      0\npayment_type            0\npayment_installments    0\npayment_value           0\ndtype: int64"
     },
     "execution_count": 31,
     "metadata": {},
     "output_type": "execute_result"
    }
   ],
   "source": [
    "payments.isna().sum()"
   ]
  },
  {
   "cell_type": "code",
   "execution_count": 32,
   "id": "alternative-underwear",
   "metadata": {},
   "outputs": [
    {
     "data": {
      "text/plain": "count    103886.000000\nmean        154.100380\nstd         217.494064\nmin           0.000000\n25%          56.790000\n50%         100.000000\n75%         171.837500\nmax       13664.080000\nName: payment_value, dtype: float64"
     },
     "execution_count": 32,
     "metadata": {},
     "output_type": "execute_result"
    }
   ],
   "source": [
    "payments.payment_value.describe()"
   ]
  },
  {
   "cell_type": "markdown",
   "id": "planned-syndicate",
   "metadata": {},
   "source": [
    "Pourquoi un paiement de 13664 si max du prix 6735 ?\n",
    "\n",
    "Il y a des paiements nuls\n",
    "\n",
    "---> Un gros panier **à vérifier le nombre d'article dans le panier**"
   ]
  },
  {
   "cell_type": "code",
   "execution_count": 33,
   "id": "sexual-conversion",
   "metadata": {},
   "outputs": [
    {
     "name": "stdout",
     "output_type": "stream",
     "text": [
      "Il y a 2 paiements faits en 0 fois\n",
      "Il y a 9 paiemients faits en 0 fois\n"
     ]
    }
   ],
   "source": [
    "temp = payments[payments['payment_installments'] == 0].shape[0]\n",
    "print(f'Il y a {temp} paiements faits en 0 fois')\n",
    "\n",
    "temp = payments[payments['payment_value'] == 0].shape[0]\n",
    "print(f'Il y a {temp} paiemients faits en 0 fois')"
   ]
  },
  {
   "cell_type": "markdown",
   "id": "handed-slide",
   "metadata": {
    "tags": []
   },
   "source": [
    "On supprime les clients qui ont payé 0 fois ou rien payé, car par nature ça ne nous intéresse pas"
   ]
  },
  {
   "cell_type": "code",
   "execution_count": 34,
   "id": "early-invitation",
   "metadata": {},
   "outputs": [],
   "source": [
    "payments = payments[payments['payment_installments'] != 0]\n",
    "payments = payments[payments['payment_value'] != 0]"
   ]
  },
  {
   "cell_type": "code",
   "execution_count": 35,
   "id": "flexible-harvest",
   "metadata": {},
   "outputs": [],
   "source": [
    "payments['payment_type_cat'] = payments.payment_type.astype('category')"
   ]
  },
  {
   "cell_type": "code",
   "execution_count": 36,
   "id": "equivalent-jordan",
   "metadata": {},
   "outputs": [
    {
     "data": {
      "text/plain": "payment_type_cat\nboleto         19784\ncredit_card    76793\ndebit_card      1529\nvoucher         5769\nName: order_id, dtype: int64"
     },
     "execution_count": 36,
     "metadata": {},
     "output_type": "execute_result"
    }
   ],
   "source": [
    "payments.groupby(by='payment_type_cat').count().order_id"
   ]
  },
  {
   "cell_type": "code",
   "execution_count": 37,
   "id": "novel-beaver",
   "metadata": {
    "tags": []
   },
   "outputs": [
    {
     "data": {
      "text/plain": "payment_sequential\n1    99357\n2     3037\n3      580\n4      275\n5      170\nName: order_id, dtype: int64"
     },
     "execution_count": 37,
     "metadata": {},
     "output_type": "execute_result"
    }
   ],
   "source": [
    "payments.groupby(by='payment_sequential').count().order_id.head()"
   ]
  },
  {
   "cell_type": "code",
   "execution_count": 38,
   "id": "composite-hormone",
   "metadata": {
    "tags": []
   },
   "outputs": [
    {
     "data": {
      "text/plain": "payment_installments\n1    52537\n2    12413\n3    10461\n4     7098\n5     5239\nName: order_id, dtype: int64"
     },
     "execution_count": 38,
     "metadata": {},
     "output_type": "execute_result"
    }
   ],
   "source": [
    "payments.groupby(by='payment_installments').count().order_id.head()"
   ]
  },
  {
   "cell_type": "code",
   "execution_count": 39,
   "id": "serial-technique",
   "metadata": {},
   "outputs": [
    {
     "data": {
      "text/plain": "<Figure size 1512x288 with 1 Axes>",
      "image/png": "[encoded data removed]"
     },
     "metadata": {
      "needs_background": "light"
     },
     "output_type": "display_data"
    }
   ],
   "source": [
    "sns.histplot(payments.payment_value)\n",
    "fig = plt.gcf()\n",
    "fig.set_size_inches(21, 4)"
   ]
  },
  {
   "cell_type": "code",
   "execution_count": 40,
   "id": "mediterranean-biotechnology",
   "metadata": {},
   "outputs": [
    {
     "data": {
      "text/plain": "<Figure size 1512x288 with 1 Axes>",
      "image/png": "[encoded data removed]"
     },
     "metadata": {
      "needs_background": "light"
     },
     "output_type": "display_data"
    }
   ],
   "source": [
    "sns.histplot(payments.payment_value).set_xscale('log')\n",
    "fig = plt.gcf()\n",
    "fig.set_size_inches(21, 4)"
   ]
  },
  {
   "cell_type": "markdown",
   "id": "packed-kingdom",
   "metadata": {},
   "source": [
    "La transformation en log n'est pas satisfaisante car elle concentre encore beaucoup de valeurs autour de 0.01-1"
   ]
  },
  {
   "cell_type": "code",
   "execution_count": 41,
   "id": "provincial-rental",
   "metadata": {},
   "outputs": [
    {
     "data": {
      "text/plain": "<Figure size 1512x288 with 1 Axes>",
      "image/png": "[encoded data removed]"
     },
     "metadata": {
      "needs_background": "light"
     },
     "output_type": "display_data"
    }
   ],
   "source": [
    "from sklearn.preprocessing import quantile_transform\n",
    "\n",
    "X = payments['payment_value'].sort_values(ascending=True).values.reshape(-1, 1)\n",
    "payments['quant_payment_value'] = quantile_transform(X, axis=0, n_quantiles=200)\n",
    "\n",
    "sns.histplot(payments.quant_payment_value)\n",
    "fig = plt.gcf()\n",
    "fig.set_size_inches(21, 4)"
   ]
  },
  {
   "cell_type": "markdown",
   "id": "furnished-underground",
   "metadata": {},
   "source": [
    "Cette distribution permettra aux algorithmes de clustering de mieux différencier les données entre elles"
   ]
  },
  {
   "cell_type": "code",
   "execution_count": 42,
   "id": "acknowledged-genetics",
   "metadata": {},
   "outputs": [],
   "source": [
    "import pandas as pd\n",
    "from scipy import stats\n",
    "import numpy as np\n",
    "import seaborn as sns\n",
    "from sklearn import preprocessing\n",
    "pd.options.mode.chained_assignment = None  # default='warn'"
   ]
  },
  {
   "cell_type": "code",
   "execution_count": 43,
   "id": "statutory-empire",
   "metadata": {
    "collapsed": false,
    "jupyter": {
     "outputs_hidden": false
    },
    "pycharm": {
     "name": "#%%\n"
    }
   },
   "outputs": [],
   "source": [
    "dfs = []\n",
    "for dts in datasets:\n",
    "    dfs.append(pd.read_csv(f\"data/{dts}.csv\"))"
   ]
  },
  {
   "cell_type": "markdown",
   "id": "coordinated-bulgaria",
   "metadata": {
    "pycharm": {
     "name": "#%% md\n"
    }
   },
   "source": [
    "## Aperçu des jeux de données"
   ]
  },
  {
   "cell_type": "code",
   "execution_count": 44,
   "id": "clinical-trace",
   "metadata": {
    "collapsed": false,
    "jupyter": {
     "outputs_hidden": false
    },
    "pycharm": {
     "name": "#%%\n"
    }
   },
   "outputs": [
    {
     "data": {
      "text/plain": "                          review_id                          order_id  \\\n0  7bc2406110b926393aa56f80a40eba40  73fc7af87114b39712e6da79b0a377eb   \n1  80e641a11e56f04c1ad469d5645fdfde  a548910a1c6147796b98fdf73dbeba33   \n2  228ce5500dc1d8e020d8d1322874b6f0  f9e4b658b201a9f2ecdecbb34bed034b   \n3  e64fb393e7b32834bb789ff8bb30750e  658677c97b385a9be170737859d3511b   \n4  f7c4243c7fe1938f181bec41a392bdeb  8e6bfb81e283fa7e4f11123a3fb894f1   \n\n   review_score review_comment_title  \\\n0             4                  NaN   \n1             5                  NaN   \n2             5                  NaN   \n3             5                  NaN   \n4             5                  NaN   \n\n                              review_comment_message review_creation_date  \\\n0                                                NaN  2018-01-18 00:00:00   \n1                                                NaN  2018-03-10 00:00:00   \n2                                                NaN  2018-02-17 00:00:00   \n3              Recebi bem antes do prazo estipulado.  2017-04-21 00:00:00   \n4  Parabéns lojas lannister adorei comprar pela I...  2018-03-01 00:00:00   \n\n  review_answer_timestamp  \n0     2018-01-18 21:46:59  \n1     2018-03-11 03:05:13  \n2     2018-02-18 14:36:24  \n3     2017-04-21 22:02:06  \n4     2018-03-02 10:26:53  ",
      "text/html": "<div>\n<style scoped>\n    .dataframe tbody tr th:only-of-type {\n        vertical-align: middle;\n    }\n\n    .dataframe tbody tr th {\n        vertical-align: top;\n    }\n\n    .dataframe thead th {\n        text-align: right;\n    }\n</style>\n<table border=\"1\" class=\"dataframe\">\n  <thead>\n    <tr style=\"text-align: right;\">\n      <th></th>\n      <th>review_id</th>\n      <th>order_id</th>\n      <th>review_score</th>\n      <th>review_comment_title</th>\n      <th>review_comment_message</th>\n      <th>review_creation_date</th>\n      <th>review_answer_timestamp</th>\n    </tr>\n  </thead>\n  <tbody>\n    <tr>\n      <th>0</th>\n      <td>7bc2406110b926393aa56f80a40eba40</td>\n      <td>73fc7af87114b39712e6da79b0a377eb</td>\n      <td>4</td>\n      <td>NaN</td>\n      <td>NaN</td>\n      <td>2018-01-18 00:00:00</td>\n      <td>2018-01-18 21:46:59</td>\n    </tr>\n    <tr>\n      <th>1</th>\n      <td>80e641a11e56f04c1ad469d5645fdfde</td>\n      <td>a548910a1c6147796b98fdf73dbeba33</td>\n      <td>5</td>\n      <td>NaN</td>\n      <td>NaN</td>\n      <td>2018-03-10 00:00:00</td>\n      <td>2018-03-11 03:05:13</td>\n    </tr>\n    <tr>\n      <th>2</th>\n      <td>228ce5500dc1d8e020d8d1322874b6f0</td>\n      <td>f9e4b658b201a9f2ecdecbb34bed034b</td>\n      <td>5</td>\n      <td>NaN</td>\n      <td>NaN</td>\n      <td>2018-02-17 00:00:00</td>\n      <td>2018-02-18 14:36:24</td>\n    </tr>\n    <tr>\n      <th>3</th>\n      <td>e64fb393e7b32834bb789ff8bb30750e</td>\n      <td>658677c97b385a9be170737859d3511b</td>\n      <td>5</td>\n      <td>NaN</td>\n      <td>Recebi bem antes do prazo estipulado.</td>\n      <td>2017-04-21 00:00:00</td>\n      <td>2017-04-21 22:02:06</td>\n    </tr>\n    <tr>\n      <th>4</th>\n      <td>f7c4243c7fe1938f181bec41a392bdeb</td>\n      <td>8e6bfb81e283fa7e4f11123a3fb894f1</td>\n      <td>5</td>\n      <td>NaN</td>\n      <td>Parabéns lojas lannister adorei comprar pela I...</td>\n      <td>2018-03-01 00:00:00</td>\n      <td>2018-03-02 10:26:53</td>\n    </tr>\n  </tbody>\n</table>\n</div>"
     },
     "execution_count": 44,
     "metadata": {},
     "output_type": "execute_result"
    }
   ],
   "source": [
    "dfs[0].head()"
   ]
  },
  {
   "cell_type": "code",
   "execution_count": 45,
   "id": "limited-surrey",
   "metadata": {
    "collapsed": false,
    "jupyter": {
     "outputs_hidden": false
    },
    "pycharm": {
     "name": "#%%\n"
    }
   },
   "outputs": [
    {
     "data": {
      "text/plain": "                           order_id                       customer_id  \\\n0  e481f51cbdc54678b7cc49136f2d6af7  9ef432eb6251297304e76186b10a928d   \n1  53cdb2fc8bc7dce0b6741e2150273451  b0830fb4747a6c6d20dea0b8c802d7ef   \n2  47770eb9100c2d0c44946d9cf07ec65d  41ce2a54c0b03bf3443c3d931a367089   \n3  949d5b44dbf5de918fe9c16f97b45f8a  f88197465ea7920adcdbec7375364d82   \n4  ad21c59c0840e6cb83a9ceb5573f8159  8ab97904e6daea8866dbdbc4fb7aad2c   \n\n  order_status order_purchase_timestamp    order_approved_at  \\\n0    delivered      2017-10-02 10:56:33  2017-10-02 11:07:15   \n1    delivered      2018-07-24 20:41:37  2018-07-26 03:24:27   \n2    delivered      2018-08-08 08:38:49  2018-08-08 08:55:23   \n3    delivered      2017-11-18 19:28:06  2017-11-18 19:45:59   \n4    delivered      2018-02-13 21:18:39  2018-02-13 22:20:29   \n\n  order_delivered_carrier_date order_delivered_customer_date  \\\n0          2017-10-04 19:55:00           2017-10-10 21:25:13   \n1          2018-07-26 14:31:00           2018-08-07 15:27:45   \n2          2018-08-08 13:50:00           2018-08-17 18:06:29   \n3          2017-11-22 13:39:59           2017-12-02 00:28:42   \n4          2018-02-14 19:46:34           2018-02-16 18:17:02   \n\n  order_estimated_delivery_date  \n0           2017-10-18 00:00:00  \n1           2018-08-13 00:00:00  \n2           2018-09-04 00:00:00  \n3           2017-12-15 00:00:00  \n4           2018-02-26 00:00:00  ",
      "text/html": "<div>\n<style scoped>\n    .dataframe tbody tr th:only-of-type {\n        vertical-align: middle;\n    }\n\n    .dataframe tbody tr th {\n        vertical-align: top;\n    }\n\n    .dataframe thead th {\n        text-align: right;\n    }\n</style>\n<table border=\"1\" class=\"dataframe\">\n  <thead>\n    <tr style=\"text-align: right;\">\n      <th></th>\n      <th>order_id</th>\n      <th>customer_id</th>\n      <th>order_status</th>\n      <th>order_purchase_timestamp</th>\n      <th>order_approved_at</th>\n      <th>order_delivered_carrier_date</th>\n      <th>order_delivered_customer_date</th>\n      <th>order_estimated_delivery_date</th>\n    </tr>\n  </thead>\n  <tbody>\n    <tr>\n      <th>0</th>\n      <td>e481f51cbdc54678b7cc49136f2d6af7</td>\n      <td>9ef432eb6251297304e76186b10a928d</td>\n      <td>delivered</td>\n      <td>2017-10-02 10:56:33</td>\n      <td>2017-10-02 11:07:15</td>\n      <td>2017-10-04 19:55:00</td>\n      <td>2017-10-10 21:25:13</td>\n      <td>2017-10-18 00:00:00</td>\n    </tr>\n    <tr>\n      <th>1</th>\n      <td>53cdb2fc8bc7dce0b6741e2150273451</td>\n      <td>b0830fb4747a6c6d20dea0b8c802d7ef</td>\n      <td>delivered</td>\n      <td>2018-07-24 20:41:37</td>\n      <td>2018-07-26 03:24:27</td>\n      <td>2018-07-26 14:31:00</td>\n      <td>2018-08-07 15:27:45</td>\n      <td>2018-08-13 00:00:00</td>\n    </tr>\n    <tr>\n      <th>2</th>\n      <td>47770eb9100c2d0c44946d9cf07ec65d</td>\n      <td>41ce2a54c0b03bf3443c3d931a367089</td>\n      <td>delivered</td>\n      <td>2018-08-08 08:38:49</td>\n      <td>2018-08-08 08:55:23</td>\n      <td>2018-08-08 13:50:00</td>\n      <td>2018-08-17 18:06:29</td>\n      <td>2018-09-04 00:00:00</td>\n    </tr>\n    <tr>\n      <th>3</th>\n      <td>949d5b44dbf5de918fe9c16f97b45f8a</td>\n      <td>f88197465ea7920adcdbec7375364d82</td>\n      <td>delivered</td>\n      <td>2017-11-18 19:28:06</td>\n      <td>2017-11-18 19:45:59</td>\n      <td>2017-11-22 13:39:59</td>\n      <td>2017-12-02 00:28:42</td>\n      <td>2017-12-15 00:00:00</td>\n    </tr>\n    <tr>\n      <th>4</th>\n      <td>ad21c59c0840e6cb83a9ceb5573f8159</td>\n      <td>8ab97904e6daea8866dbdbc4fb7aad2c</td>\n      <td>delivered</td>\n      <td>2018-02-13 21:18:39</td>\n      <td>2018-02-13 22:20:29</td>\n      <td>2018-02-14 19:46:34</td>\n      <td>2018-02-16 18:17:02</td>\n      <td>2018-02-26 00:00:00</td>\n    </tr>\n  </tbody>\n</table>\n</div>"
     },
     "execution_count": 45,
     "metadata": {},
     "output_type": "execute_result"
    }
   ],
   "source": [
    "dfs[1].head()"
   ]
  },
  {
   "cell_type": "code",
   "execution_count": 46,
   "id": "suitable-organ",
   "metadata": {
    "collapsed": false,
    "jupyter": {
     "outputs_hidden": false
    },
    "pycharm": {
     "name": "#%%\n"
    }
   },
   "outputs": [
    {
     "data": {
      "text/plain": "                         product_id  product_category_name  \\\n0  1e9e8ef04dbcff4541ed26657ea517e5             perfumaria   \n1  3aa071139cb16b67ca9e5dea641aaa2f                  artes   \n2  96bd76ec8810374ed1b65e291975717f          esporte_lazer   \n3  cef67bcfe19066a932b7673e239eb23d                  bebes   \n4  9dc1a7de274444849c219cff195d0b71  utilidades_domesticas   \n\n   product_name_lenght  product_description_lenght  product_photos_qty  \\\n0                 40.0                       287.0                 1.0   \n1                 44.0                       276.0                 1.0   \n2                 46.0                       250.0                 1.0   \n3                 27.0                       261.0                 1.0   \n4                 37.0                       402.0                 4.0   \n\n   product_weight_g  product_length_cm  product_height_cm  product_width_cm  \n0             225.0               16.0               10.0              14.0  \n1            1000.0               30.0               18.0              20.0  \n2             154.0               18.0                9.0              15.0  \n3             371.0               26.0                4.0              26.0  \n4             625.0               20.0               17.0              13.0  ",
      "text/html": "<div>\n<style scoped>\n    .dataframe tbody tr th:only-of-type {\n        vertical-align: middle;\n    }\n\n    .dataframe tbody tr th {\n        vertical-align: top;\n    }\n\n    .dataframe thead th {\n        text-align: right;\n    }\n</style>\n<table border=\"1\" class=\"dataframe\">\n  <thead>\n    <tr style=\"text-align: right;\">\n      <th></th>\n      <th>product_id</th>\n      <th>product_category_name</th>\n      <th>product_name_lenght</th>\n      <th>product_description_lenght</th>\n      <th>product_photos_qty</th>\n      <th>product_weight_g</th>\n      <th>product_length_cm</th>\n      <th>product_height_cm</th>\n      <th>product_width_cm</th>\n    </tr>\n  </thead>\n  <tbody>\n    <tr>\n      <th>0</th>\n      <td>1e9e8ef04dbcff4541ed26657ea517e5</td>\n      <td>perfumaria</td>\n      <td>40.0</td>\n      <td>287.0</td>\n      <td>1.0</td>\n      <td>225.0</td>\n      <td>16.0</td>\n      <td>10.0</td>\n      <td>14.0</td>\n    </tr>\n    <tr>\n      <th>1</th>\n      <td>3aa071139cb16b67ca9e5dea641aaa2f</td>\n      <td>artes</td>\n      <td>44.0</td>\n      <td>276.0</td>\n      <td>1.0</td>\n      <td>1000.0</td>\n      <td>30.0</td>\n      <td>18.0</td>\n      <td>20.0</td>\n    </tr>\n    <tr>\n      <th>2</th>\n      <td>96bd76ec8810374ed1b65e291975717f</td>\n      <td>esporte_lazer</td>\n      <td>46.0</td>\n      <td>250.0</td>\n      <td>1.0</td>\n      <td>154.0</td>\n      <td>18.0</td>\n      <td>9.0</td>\n      <td>15.0</td>\n    </tr>\n    <tr>\n      <th>3</th>\n      <td>cef67bcfe19066a932b7673e239eb23d</td>\n      <td>bebes</td>\n      <td>27.0</td>\n      <td>261.0</td>\n      <td>1.0</td>\n      <td>371.0</td>\n      <td>26.0</td>\n      <td>4.0</td>\n      <td>26.0</td>\n    </tr>\n    <tr>\n      <th>4</th>\n      <td>9dc1a7de274444849c219cff195d0b71</td>\n      <td>utilidades_domesticas</td>\n      <td>37.0</td>\n      <td>402.0</td>\n      <td>4.0</td>\n      <td>625.0</td>\n      <td>20.0</td>\n      <td>17.0</td>\n      <td>13.0</td>\n    </tr>\n  </tbody>\n</table>\n</div>"
     },
     "execution_count": 46,
     "metadata": {},
     "output_type": "execute_result"
    }
   ],
   "source": [
    "dfs[2].head()"
   ]
  },
  {
   "cell_type": "code",
   "execution_count": 47,
   "id": "located-fortune",
   "metadata": {
    "collapsed": false,
    "jupyter": {
     "outputs_hidden": false
    },
    "pycharm": {
     "name": "#%%\n"
    }
   },
   "outputs": [
    {
     "data": {
      "text/plain": "                          seller_id  seller_zip_code_prefix  \\\n0  3442f8959a84dea7ee197c632cb2df15                   13023   \n1  d1b65fc7debc3361ea86b5f14c68d2e2                   13844   \n2  ce3ad9de960102d0677a81f5d0bb7b2d                   20031   \n3  c0f3eea2e14555b6faeea3dd58c1b1c3                    4195   \n4  51a04a8a6bdcb23deccc82b0b80742cf                   12914   \n\n         seller_city seller_state  \n0           campinas           SP  \n1         mogi guacu           SP  \n2     rio de janeiro           RJ  \n3          sao paulo           SP  \n4  braganca paulista           SP  ",
      "text/html": "<div>\n<style scoped>\n    .dataframe tbody tr th:only-of-type {\n        vertical-align: middle;\n    }\n\n    .dataframe tbody tr th {\n        vertical-align: top;\n    }\n\n    .dataframe thead th {\n        text-align: right;\n    }\n</style>\n<table border=\"1\" class=\"dataframe\">\n  <thead>\n    <tr style=\"text-align: right;\">\n      <th></th>\n      <th>seller_id</th>\n      <th>seller_zip_code_prefix</th>\n      <th>seller_city</th>\n      <th>seller_state</th>\n    </tr>\n  </thead>\n  <tbody>\n    <tr>\n      <th>0</th>\n      <td>3442f8959a84dea7ee197c632cb2df15</td>\n      <td>13023</td>\n      <td>campinas</td>\n      <td>SP</td>\n    </tr>\n    <tr>\n      <th>1</th>\n      <td>d1b65fc7debc3361ea86b5f14c68d2e2</td>\n      <td>13844</td>\n      <td>mogi guacu</td>\n      <td>SP</td>\n    </tr>\n    <tr>\n      <th>2</th>\n      <td>ce3ad9de960102d0677a81f5d0bb7b2d</td>\n      <td>20031</td>\n      <td>rio de janeiro</td>\n      <td>RJ</td>\n    </tr>\n    <tr>\n      <th>3</th>\n      <td>c0f3eea2e14555b6faeea3dd58c1b1c3</td>\n      <td>4195</td>\n      <td>sao paulo</td>\n      <td>SP</td>\n    </tr>\n    <tr>\n      <th>4</th>\n      <td>51a04a8a6bdcb23deccc82b0b80742cf</td>\n      <td>12914</td>\n      <td>braganca paulista</td>\n      <td>SP</td>\n    </tr>\n  </tbody>\n</table>\n</div>"
     },
     "execution_count": 47,
     "metadata": {},
     "output_type": "execute_result"
    }
   ],
   "source": [
    "dfs[3].head()"
   ]
  },
  {
   "cell_type": "code",
   "execution_count": 48,
   "id": "democratic-decline",
   "metadata": {
    "collapsed": false,
    "jupyter": {
     "outputs_hidden": false
    },
    "pycharm": {
     "name": "#%%\n"
    }
   },
   "outputs": [
    {
     "data": {
      "text/plain": "    product_category_name product_category_name_english\n0            beleza_saude                 health_beauty\n1  informatica_acessorios         computers_accessories\n2              automotivo                          auto\n3         cama_mesa_banho                bed_bath_table\n4        moveis_decoracao               furniture_decor",
      "text/html": "<div>\n<style scoped>\n    .dataframe tbody tr th:only-of-type {\n        vertical-align: middle;\n    }\n\n    .dataframe tbody tr th {\n        vertical-align: top;\n    }\n\n    .dataframe thead th {\n        text-align: right;\n    }\n</style>\n<table border=\"1\" class=\"dataframe\">\n  <thead>\n    <tr style=\"text-align: right;\">\n      <th></th>\n      <th>product_category_name</th>\n      <th>product_category_name_english</th>\n    </tr>\n  </thead>\n  <tbody>\n    <tr>\n      <th>0</th>\n      <td>beleza_saude</td>\n      <td>health_beauty</td>\n    </tr>\n    <tr>\n      <th>1</th>\n      <td>informatica_acessorios</td>\n      <td>computers_accessories</td>\n    </tr>\n    <tr>\n      <th>2</th>\n      <td>automotivo</td>\n      <td>auto</td>\n    </tr>\n    <tr>\n      <th>3</th>\n      <td>cama_mesa_banho</td>\n      <td>bed_bath_table</td>\n    </tr>\n    <tr>\n      <th>4</th>\n      <td>moveis_decoracao</td>\n      <td>furniture_decor</td>\n    </tr>\n  </tbody>\n</table>\n</div>"
     },
     "execution_count": 48,
     "metadata": {},
     "output_type": "execute_result"
    }
   ],
   "source": [
    "dfs[4].head()"
   ]
  },
  {
   "cell_type": "markdown",
   "id": "directed-mattress",
   "metadata": {
    "pycharm": {
     "name": "#%% md\n"
    }
   },
   "source": [
    "## Selection des features pertinentes pour la segmentation"
   ]
  },
  {
   "cell_type": "code",
   "execution_count": 49,
   "id": "regulation-gazette",
   "metadata": {
    "collapsed": false,
    "jupyter": {
     "outputs_hidden": false
    },
    "pycharm": {
     "name": "#%%\n"
    }
   },
   "outputs": [],
   "source": [
    "del dfs[2][\"product_name_lenght\"]\n",
    "del dfs[2][\"product_description_lenght\"]\n",
    "del dfs[2][\"product_photos_qty\"]\n",
    "del dfs[0][\"review_comment_title\"]\n",
    "del dfs[0][\"review_comment_message\"]"
   ]
  },
  {
   "cell_type": "markdown",
   "id": "checked-taxation",
   "metadata": {
    "pycharm": {
     "name": "#%% md\n"
    }
   },
   "source": [
    "## Preprocess sur les valeurs manquantes"
   ]
  },
  {
   "cell_type": "markdown",
   "id": "knowing-monte",
   "metadata": {
    "pycharm": {
     "name": "#%% md\n"
    }
   },
   "source": [
    "### order reviews"
   ]
  },
  {
   "cell_type": "code",
   "execution_count": 50,
   "id": "victorian-dayton",
   "metadata": {
    "collapsed": false,
    "jupyter": {
     "outputs_hidden": false
    },
    "pycharm": {
     "name": "#%%\n"
    }
   },
   "outputs": [
    {
     "data": {
      "text/plain": "                     index  percentage_na\n0                review_id            0.0\n1                 order_id            0.0\n2             review_score            0.0\n3     review_creation_date            0.0\n4  review_answer_timestamp            0.0",
      "text/html": "<div>\n<style scoped>\n    .dataframe tbody tr th:only-of-type {\n        vertical-align: middle;\n    }\n\n    .dataframe tbody tr th {\n        vertical-align: top;\n    }\n\n    .dataframe thead th {\n        text-align: right;\n    }\n</style>\n<table border=\"1\" class=\"dataframe\">\n  <thead>\n    <tr style=\"text-align: right;\">\n      <th></th>\n      <th>index</th>\n      <th>percentage_na</th>\n    </tr>\n  </thead>\n  <tbody>\n    <tr>\n      <th>0</th>\n      <td>review_id</td>\n      <td>0.0</td>\n    </tr>\n    <tr>\n      <th>1</th>\n      <td>order_id</td>\n      <td>0.0</td>\n    </tr>\n    <tr>\n      <th>2</th>\n      <td>review_score</td>\n      <td>0.0</td>\n    </tr>\n    <tr>\n      <th>3</th>\n      <td>review_creation_date</td>\n      <td>0.0</td>\n    </tr>\n    <tr>\n      <th>4</th>\n      <td>review_answer_timestamp</td>\n      <td>0.0</td>\n    </tr>\n  </tbody>\n</table>\n</div>"
     },
     "execution_count": 50,
     "metadata": {},
     "output_type": "execute_result"
    }
   ],
   "source": [
    "(dfs[0].isna().sum()/dfs[0].shape[0]).sort_values(ascending=True).reset_index(name=\"percentage_na\")"
   ]
  },
  {
   "cell_type": "code",
   "execution_count": 51,
   "id": "controlled-baker",
   "metadata": {
    "collapsed": false,
    "jupyter": {
     "outputs_hidden": false
    },
    "pycharm": {
     "name": "#%%\n"
    }
   },
   "outputs": [],
   "source": [
    "cat_cols = [\"review_answer_timestamp\"]\n",
    "dfs[0][cat_cols] = dfs[0][cat_cols].fillna(\"unknow\")"
   ]
  },
  {
   "cell_type": "markdown",
   "id": "adolescent-links",
   "metadata": {
    "pycharm": {
     "name": "#%% md\n"
    }
   },
   "source": [
    "___\n",
    "\n",
    "### orders dataset"
   ]
  },
  {
   "cell_type": "code",
   "execution_count": 52,
   "id": "talented-stamp",
   "metadata": {
    "collapsed": false,
    "jupyter": {
     "outputs_hidden": false
    },
    "pycharm": {
     "name": "#%%\n"
    }
   },
   "outputs": [
    {
     "data": {
      "text/plain": "                           index  percentage_na\n0                       order_id       0.000000\n1                    customer_id       0.000000\n2                   order_status       0.000000\n3       order_purchase_timestamp       0.000000\n4  order_estimated_delivery_date       0.000000\n5              order_approved_at       0.001609\n6   order_delivered_carrier_date       0.017930\n7  order_delivered_customer_date       0.029817",
      "text/html": "<div>\n<style scoped>\n    .dataframe tbody tr th:only-of-type {\n        vertical-align: middle;\n    }\n\n    .dataframe tbody tr th {\n        vertical-align: top;\n    }\n\n    .dataframe thead th {\n        text-align: right;\n    }\n</style>\n<table border=\"1\" class=\"dataframe\">\n  <thead>\n    <tr style=\"text-align: right;\">\n      <th></th>\n      <th>index</th>\n      <th>percentage_na</th>\n    </tr>\n  </thead>\n  <tbody>\n    <tr>\n      <th>0</th>\n      <td>order_id</td>\n      <td>0.000000</td>\n    </tr>\n    <tr>\n      <th>1</th>\n      <td>customer_id</td>\n      <td>0.000000</td>\n    </tr>\n    <tr>\n      <th>2</th>\n      <td>order_status</td>\n      <td>0.000000</td>\n    </tr>\n    <tr>\n      <th>3</th>\n      <td>order_purchase_timestamp</td>\n      <td>0.000000</td>\n    </tr>\n    <tr>\n      <th>4</th>\n      <td>order_estimated_delivery_date</td>\n      <td>0.000000</td>\n    </tr>\n    <tr>\n      <th>5</th>\n      <td>order_approved_at</td>\n      <td>0.001609</td>\n    </tr>\n    <tr>\n      <th>6</th>\n      <td>order_delivered_carrier_date</td>\n      <td>0.017930</td>\n    </tr>\n    <tr>\n      <th>7</th>\n      <td>order_delivered_customer_date</td>\n      <td>0.029817</td>\n    </tr>\n  </tbody>\n</table>\n</div>"
     },
     "execution_count": 52,
     "metadata": {},
     "output_type": "execute_result"
    }
   ],
   "source": [
    "na_data = (dfs[1].isna().sum()/dfs[1].shape[0]).sort_values(ascending=True).reset_index(name=\"percentage_na\")\n",
    "na_data"
   ]
  },
  {
   "cell_type": "code",
   "execution_count": 53,
   "id": "commercial-inspiration",
   "metadata": {
    "collapsed": false,
    "jupyter": {
     "outputs_hidden": false
    },
    "pycharm": {
     "name": "#%%\n"
    }
   },
   "outputs": [],
   "source": [
    "dfs[1] = dfs[1].dropna()"
   ]
  },
  {
   "cell_type": "markdown",
   "id": "nonprofit-warehouse",
   "metadata": {
    "pycharm": {
     "name": "#%% md\n"
    }
   },
   "source": [
    "___\n",
    "\n",
    "### products dataset"
   ]
  },
  {
   "cell_type": "code",
   "execution_count": 54,
   "id": "recorded-times",
   "metadata": {
    "collapsed": false,
    "jupyter": {
     "outputs_hidden": false
    },
    "pycharm": {
     "name": "#%%\n"
    }
   },
   "outputs": [
    {
     "data": {
      "text/plain": "                   index  percentage_na\n0             product_id       0.000000\n1       product_weight_g       0.000061\n2      product_length_cm       0.000061\n3      product_height_cm       0.000061\n4       product_width_cm       0.000061\n5  product_category_name       0.018512",
      "text/html": "<div>\n<style scoped>\n    .dataframe tbody tr th:only-of-type {\n        vertical-align: middle;\n    }\n\n    .dataframe tbody tr th {\n        vertical-align: top;\n    }\n\n    .dataframe thead th {\n        text-align: right;\n    }\n</style>\n<table border=\"1\" class=\"dataframe\">\n  <thead>\n    <tr style=\"text-align: right;\">\n      <th></th>\n      <th>index</th>\n      <th>percentage_na</th>\n    </tr>\n  </thead>\n  <tbody>\n    <tr>\n      <th>0</th>\n      <td>product_id</td>\n      <td>0.000000</td>\n    </tr>\n    <tr>\n      <th>1</th>\n      <td>product_weight_g</td>\n      <td>0.000061</td>\n    </tr>\n    <tr>\n      <th>2</th>\n      <td>product_length_cm</td>\n      <td>0.000061</td>\n    </tr>\n    <tr>\n      <th>3</th>\n      <td>product_height_cm</td>\n      <td>0.000061</td>\n    </tr>\n    <tr>\n      <th>4</th>\n      <td>product_width_cm</td>\n      <td>0.000061</td>\n    </tr>\n    <tr>\n      <th>5</th>\n      <td>product_category_name</td>\n      <td>0.018512</td>\n    </tr>\n  </tbody>\n</table>\n</div>"
     },
     "execution_count": 54,
     "metadata": {},
     "output_type": "execute_result"
    }
   ],
   "source": [
    "(dfs[2].isna().sum()/dfs[2].shape[0]).sort_values(ascending=True).reset_index(name=\"percentage_na\")"
   ]
  },
  {
   "cell_type": "code",
   "execution_count": 55,
   "id": "stuck-powell",
   "metadata": {
    "collapsed": false,
    "jupyter": {
     "outputs_hidden": false
    },
    "pycharm": {
     "name": "#%%\n"
    }
   },
   "outputs": [],
   "source": [
    "cat_cols = \"product_category_name\"\n",
    "dfs[2][cat_cols] = dfs[2][cat_cols].fillna(\"unknow\")\n",
    "\n",
    "num_cols = list(dfs[2].select_dtypes(include=\"float64\").columns)\n",
    "dfs[2].update(dfs[2][num_cols].fillna(dfs[2].median()))"
   ]
  },
  {
   "cell_type": "markdown",
   "id": "stuck-officer",
   "metadata": {
    "pycharm": {
     "name": "#%% md\n"
    }
   },
   "source": [
    "___\n",
    "\n",
    "### sellers dataset"
   ]
  },
  {
   "cell_type": "code",
   "execution_count": 56,
   "id": "saving-harvest",
   "metadata": {
    "collapsed": false,
    "jupyter": {
     "outputs_hidden": false
    },
    "pycharm": {
     "name": "#%%\n"
    }
   },
   "outputs": [
    {
     "data": {
      "text/plain": "                    index  percentage_na\n0               seller_id            0.0\n1  seller_zip_code_prefix            0.0\n2             seller_city            0.0\n3            seller_state            0.0",
      "text/html": "<div>\n<style scoped>\n    .dataframe tbody tr th:only-of-type {\n        vertical-align: middle;\n    }\n\n    .dataframe tbody tr th {\n        vertical-align: top;\n    }\n\n    .dataframe thead th {\n        text-align: right;\n    }\n</style>\n<table border=\"1\" class=\"dataframe\">\n  <thead>\n    <tr style=\"text-align: right;\">\n      <th></th>\n      <th>index</th>\n      <th>percentage_na</th>\n    </tr>\n  </thead>\n  <tbody>\n    <tr>\n      <th>0</th>\n      <td>seller_id</td>\n      <td>0.0</td>\n    </tr>\n    <tr>\n      <th>1</th>\n      <td>seller_zip_code_prefix</td>\n      <td>0.0</td>\n    </tr>\n    <tr>\n      <th>2</th>\n      <td>seller_city</td>\n      <td>0.0</td>\n    </tr>\n    <tr>\n      <th>3</th>\n      <td>seller_state</td>\n      <td>0.0</td>\n    </tr>\n  </tbody>\n</table>\n</div>"
     },
     "execution_count": 56,
     "metadata": {},
     "output_type": "execute_result"
    }
   ],
   "source": [
    "(dfs[3].isna().sum()/dfs[3].shape[0]).sort_values(ascending=True).reset_index(name=\"percentage_na\")"
   ]
  },
  {
   "cell_type": "markdown",
   "id": "powered-distribution",
   "metadata": {
    "pycharm": {
     "name": "#%% md\n"
    }
   },
   "source": [
    "___\n",
    "\n",
    "### category name translation"
   ]
  },
  {
   "cell_type": "code",
   "execution_count": 57,
   "id": "brazilian-packing",
   "metadata": {
    "collapsed": false,
    "jupyter": {
     "outputs_hidden": false
    },
    "pycharm": {
     "name": "#%%\n"
    }
   },
   "outputs": [
    {
     "data": {
      "text/plain": "                           index  percentage_na\n0          product_category_name            0.0\n1  product_category_name_english            0.0",
      "text/html": "<div>\n<style scoped>\n    .dataframe tbody tr th:only-of-type {\n        vertical-align: middle;\n    }\n\n    .dataframe tbody tr th {\n        vertical-align: top;\n    }\n\n    .dataframe thead th {\n        text-align: right;\n    }\n</style>\n<table border=\"1\" class=\"dataframe\">\n  <thead>\n    <tr style=\"text-align: right;\">\n      <th></th>\n      <th>index</th>\n      <th>percentage_na</th>\n    </tr>\n  </thead>\n  <tbody>\n    <tr>\n      <th>0</th>\n      <td>product_category_name</td>\n      <td>0.0</td>\n    </tr>\n    <tr>\n      <th>1</th>\n      <td>product_category_name_english</td>\n      <td>0.0</td>\n    </tr>\n  </tbody>\n</table>\n</div>"
     },
     "execution_count": 57,
     "metadata": {},
     "output_type": "execute_result"
    }
   ],
   "source": [
    "(dfs[4].isna().sum()/dfs[4].shape[0]).sort_values(ascending=True).reset_index(name=\"percentage_na\")"
   ]
  },
  {
   "cell_type": "markdown",
   "id": "logical-founder",
   "metadata": {
    "pycharm": {
     "name": "#%% md\n"
    }
   },
   "source": [
    "## Preprocess sur les Outliers\n",
    "### Aucun outliers présent dans les 5 dataframes, les données présentes ne sont pas vraiment susceptible à etre des outliers"
   ]
  },
  {
   "cell_type": "code",
   "execution_count": 58,
   "id": "proud-magic",
   "metadata": {
    "collapsed": false,
    "jupyter": {
     "outputs_hidden": false
    },
    "pycharm": {
     "name": "#%%\n"
    }
   },
   "outputs": [
    {
     "data": {
      "text/plain": "Empty DataFrame\nColumns: [product_weight_g, product_length_cm, product_height_cm, product_width_cm]\nIndex: []",
      "text/html": "<div>\n<style scoped>\n    .dataframe tbody tr th:only-of-type {\n        vertical-align: middle;\n    }\n\n    .dataframe tbody tr th {\n        vertical-align: top;\n    }\n\n    .dataframe thead th {\n        text-align: right;\n    }\n</style>\n<table border=\"1\" class=\"dataframe\">\n  <thead>\n    <tr style=\"text-align: right;\">\n      <th></th>\n      <th>product_weight_g</th>\n      <th>product_length_cm</th>\n      <th>product_height_cm</th>\n      <th>product_width_cm</th>\n    </tr>\n  </thead>\n  <tbody>\n  </tbody>\n</table>\n</div>"
     },
     "execution_count": 58,
     "metadata": {},
     "output_type": "execute_result"
    }
   ],
   "source": [
    "df2_num = dfs[2].select_dtypes(include=\"float64\")\n",
    "df2_num[(np.abs(stats.zscore(df2_num)) > 3).all(axis=1)]"
   ]
  },
  {
   "cell_type": "code",
   "execution_count": 59,
   "id": "magnetic-luxembourg",
   "metadata": {
    "collapsed": false,
    "jupyter": {
     "outputs_hidden": false
    },
    "pycharm": {
     "name": "#%%\n"
    }
   },
   "outputs": [
    {
     "name": "stderr",
     "output_type": "stream",
     "text": [
      "C:\\Users\\matt\\anaconda3\\envs\\ML\\lib\\site-packages\\seaborn\\_decorators.py:36: FutureWarning: Pass the following variable as a keyword arg: x. From version 0.12, the only valid positional argument will be `data`, and passing other arguments without an explicit keyword will result in an error or misinterpretation.\n",
      "  warnings.warn(\n"
     ]
    },
    {
     "data": {
      "text/plain": "<AxesSubplot:xlabel='0'>"
     },
     "execution_count": 59,
     "metadata": {},
     "output_type": "execute_result"
    },
    {
     "data": {
      "text/plain": "<Figure size 432x288 with 1 Axes>",
      "image/png": "[encoded data removed]"
     },
     "metadata": {
      "needs_background": "light"
     },
     "output_type": "display_data"
    }
   ],
   "source": [
    "sns.boxplot(df2_num.iloc[0])"
   ]
  },
  {
   "cell_type": "markdown",
   "id": "dominant-commons",
   "metadata": {
    "pycharm": {
     "name": "#%% md\n"
    }
   },
   "source": [
    "### Regroupement des données par caractéristiques principales\n"
   ]
  },
  {
   "cell_type": "code",
   "execution_count": 60,
   "id": "textile-delta",
   "metadata": {
    "collapsed": false,
    "jupyter": {
     "outputs_hidden": false
    },
    "pycharm": {
     "name": "#%%\n"
    }
   },
   "outputs": [
    {
     "data": {
      "text/plain": "                               order_id                       customer_id  \\\n0      e481f51cbdc54678b7cc49136f2d6af7  9ef432eb6251297304e76186b10a928d   \n1      53cdb2fc8bc7dce0b6741e2150273451  b0830fb4747a6c6d20dea0b8c802d7ef   \n2      47770eb9100c2d0c44946d9cf07ec65d  41ce2a54c0b03bf3443c3d931a367089   \n3      949d5b44dbf5de918fe9c16f97b45f8a  f88197465ea7920adcdbec7375364d82   \n4      ad21c59c0840e6cb83a9ceb5573f8159  8ab97904e6daea8866dbdbc4fb7aad2c   \n...                                 ...                               ...   \n99436  9c5dedf39a927c1b2549525ed64a053c  39bd1228ee8140590ac3aca26f2dfe00   \n99437  63943bddc261676b46f01ca7ac2f7bd8  1fca14ff2861355f6e5f14306ff977a7   \n99438  83c1379a015df1e13d02aae0204711ab  1aa71eb042121263aafbe80c1b562c9c   \n99439  11c177c8e97725db2631073c19f07b62  b331b74b18dc79bcdf6532d51e1637c1   \n99440  66dea50a8b16d9b4dee7af250b4be1a5  edb027a75a1449115f6b43211ae02a24   \n\n      order_status order_purchase_timestamp    order_approved_at  \\\n0        delivered      2017-10-02 10:56:33  2017-10-02 11:07:15   \n1        delivered      2018-07-24 20:41:37  2018-07-26 03:24:27   \n2        delivered      2018-08-08 08:38:49  2018-08-08 08:55:23   \n3        delivered      2017-11-18 19:28:06  2017-11-18 19:45:59   \n4        delivered      2018-02-13 21:18:39  2018-02-13 22:20:29   \n...            ...                      ...                  ...   \n99436    delivered      2017-03-09 09:54:05  2017-03-09 09:54:05   \n99437    delivered      2018-02-06 12:58:58  2018-02-06 13:10:37   \n99438    delivered      2017-08-27 14:46:43  2017-08-27 15:04:16   \n99439    delivered      2018-01-08 21:28:27  2018-01-08 21:36:21   \n99440    delivered      2018-03-08 20:57:30  2018-03-09 11:20:28   \n\n      order_delivered_carrier_date order_delivered_customer_date  \\\n0              2017-10-04 19:55:00           2017-10-10 21:25:13   \n1              2018-07-26 14:31:00           2018-08-07 15:27:45   \n2              2018-08-08 13:50:00           2018-08-17 18:06:29   \n3              2017-11-22 13:39:59           2017-12-02 00:28:42   \n4              2018-02-14 19:46:34           2018-02-16 18:17:02   \n...                            ...                           ...   \n99436          2017-03-10 11:18:03           2017-03-17 15:08:01   \n99437          2018-02-07 23:22:42           2018-02-28 17:37:56   \n99438          2017-08-28 20:52:26           2017-09-21 11:24:17   \n99439          2018-01-12 15:35:03           2018-01-25 23:32:54   \n99440          2018-03-09 22:11:59           2018-03-16 13:08:30   \n\n      order_estimated_delivery_date  \n0               2017-10-18 00:00:00  \n1               2018-08-13 00:00:00  \n2               2018-09-04 00:00:00  \n3               2017-12-15 00:00:00  \n4               2018-02-26 00:00:00  \n...                             ...  \n99436           2017-03-28 00:00:00  \n99437           2018-03-02 00:00:00  \n99438           2017-09-27 00:00:00  \n99439           2018-02-15 00:00:00  \n99440           2018-04-03 00:00:00  \n\n[96461 rows x 8 columns]",
      "text/html": "<div>\n<style scoped>\n    .dataframe tbody tr th:only-of-type {\n        vertical-align: middle;\n    }\n\n    .dataframe tbody tr th {\n        vertical-align: top;\n    }\n\n    .dataframe thead th {\n        text-align: right;\n    }\n</style>\n<table border=\"1\" class=\"dataframe\">\n  <thead>\n    <tr style=\"text-align: right;\">\n      <th></th>\n      <th>order_id</th>\n      <th>customer_id</th>\n      <th>order_status</th>\n      <th>order_purchase_timestamp</th>\n      <th>order_approved_at</th>\n      <th>order_delivered_carrier_date</th>\n      <th>order_delivered_customer_date</th>\n      <th>order_estimated_delivery_date</th>\n    </tr>\n  </thead>\n  <tbody>\n    <tr>\n      <th>0</th>\n      <td>e481f51cbdc54678b7cc49136f2d6af7</td>\n      <td>9ef432eb6251297304e76186b10a928d</td>\n      <td>delivered</td>\n      <td>2017-10-02 10:56:33</td>\n      <td>2017-10-02 11:07:15</td>\n      <td>2017-10-04 19:55:00</td>\n      <td>2017-10-10 21:25:13</td>\n      <td>2017-10-18 00:00:00</td>\n    </tr>\n    <tr>\n      <th>1</th>\n      <td>53cdb2fc8bc7dce0b6741e2150273451</td>\n      <td>b0830fb4747a6c6d20dea0b8c802d7ef</td>\n      <td>delivered</td>\n      <td>2018-07-24 20:41:37</td>\n      <td>2018-07-26 03:24:27</td>\n      <td>2018-07-26 14:31:00</td>\n      <td>2018-08-07 15:27:45</td>\n      <td>2018-08-13 00:00:00</td>\n    </tr>\n    <tr>\n      <th>2</th>\n      <td>47770eb9100c2d0c44946d9cf07ec65d</td>\n      <td>41ce2a54c0b03bf3443c3d931a367089</td>\n      <td>delivered</td>\n      <td>2018-08-08 08:38:49</td>\n      <td>2018-08-08 08:55:23</td>\n      <td>2018-08-08 13:50:00</td>\n      <td>2018-08-17 18:06:29</td>\n      <td>2018-09-04 00:00:00</td>\n    </tr>\n    <tr>\n      <th>3</th>\n      <td>949d5b44dbf5de918fe9c16f97b45f8a</td>\n      <td>f88197465ea7920adcdbec7375364d82</td>\n      <td>delivered</td>\n      <td>2017-11-18 19:28:06</td>\n      <td>2017-11-18 19:45:59</td>\n      <td>2017-11-22 13:39:59</td>\n      <td>2017-12-02 00:28:42</td>\n      <td>2017-12-15 00:00:00</td>\n    </tr>\n    <tr>\n      <th>4</th>\n      <td>ad21c59c0840e6cb83a9ceb5573f8159</td>\n      <td>8ab97904e6daea8866dbdbc4fb7aad2c</td>\n      <td>delivered</td>\n      <td>2018-02-13 21:18:39</td>\n      <td>2018-02-13 22:20:29</td>\n      <td>2018-02-14 19:46:34</td>\n      <td>2018-02-16 18:17:02</td>\n      <td>2018-02-26 00:00:00</td>\n    </tr>\n    <tr>\n      <th>...</th>\n      <td>...</td>\n      <td>...</td>\n      <td>...</td>\n      <td>...</td>\n      <td>...</td>\n      <td>...</td>\n      <td>...</td>\n      <td>...</td>\n    </tr>\n    <tr>\n      <th>99436</th>\n      <td>9c5dedf39a927c1b2549525ed64a053c</td>\n      <td>39bd1228ee8140590ac3aca26f2dfe00</td>\n      <td>delivered</td>\n      <td>2017-03-09 09:54:05</td>\n      <td>2017-03-09 09:54:05</td>\n      <td>2017-03-10 11:18:03</td>\n      <td>2017-03-17 15:08:01</td>\n      <td>2017-03-28 00:00:00</td>\n    </tr>\n    <tr>\n      <th>99437</th>\n      <td>63943bddc261676b46f01ca7ac2f7bd8</td>\n      <td>1fca14ff2861355f6e5f14306ff977a7</td>\n      <td>delivered</td>\n      <td>2018-02-06 12:58:58</td>\n      <td>2018-02-06 13:10:37</td>\n      <td>2018-02-07 23:22:42</td>\n      <td>2018-02-28 17:37:56</td>\n      <td>2018-03-02 00:00:00</td>\n    </tr>\n    <tr>\n      <th>99438</th>\n      <td>83c1379a015df1e13d02aae0204711ab</td>\n      <td>1aa71eb042121263aafbe80c1b562c9c</td>\n      <td>delivered</td>\n      <td>2017-08-27 14:46:43</td>\n      <td>2017-08-27 15:04:16</td>\n      <td>2017-08-28 20:52:26</td>\n      <td>2017-09-21 11:24:17</td>\n      <td>2017-09-27 00:00:00</td>\n    </tr>\n    <tr>\n      <th>99439</th>\n      <td>11c177c8e97725db2631073c19f07b62</td>\n      <td>b331b74b18dc79bcdf6532d51e1637c1</td>\n      <td>delivered</td>\n      <td>2018-01-08 21:28:27</td>\n      <td>2018-01-08 21:36:21</td>\n      <td>2018-01-12 15:35:03</td>\n      <td>2018-01-25 23:32:54</td>\n      <td>2018-02-15 00:00:00</td>\n    </tr>\n    <tr>\n      <th>99440</th>\n      <td>66dea50a8b16d9b4dee7af250b4be1a5</td>\n      <td>edb027a75a1449115f6b43211ae02a24</td>\n      <td>delivered</td>\n      <td>2018-03-08 20:57:30</td>\n      <td>2018-03-09 11:20:28</td>\n      <td>2018-03-09 22:11:59</td>\n      <td>2018-03-16 13:08:30</td>\n      <td>2018-04-03 00:00:00</td>\n    </tr>\n  </tbody>\n</table>\n<p>96461 rows × 8 columns</p>\n</div>"
     },
     "execution_count": 60,
     "metadata": {},
     "output_type": "execute_result"
    }
   ],
   "source": [
    "dfs[1]"
   ]
  },
  {
   "cell_type": "code",
   "execution_count": 61,
   "id": "double-massage",
   "metadata": {
    "collapsed": false,
    "jupyter": {
     "outputs_hidden": false
    },
    "pycharm": {
     "name": "#%%\n"
    }
   },
   "outputs": [],
   "source": [
    "dates = ['review_creation_date', 'review_answer_timestamp']\n",
    "dates2= ['order_purchase_timestamp', 'order_approved_at', 'order_delivered_carrier_date', 'order_delivered_customer_date', 'order_estimated_delivery_date']\n",
    "dfs[0][dates] = dfs[0][dates].apply(pd.to_datetime, errors=\"coerce\")\n",
    "dfs[1][dates2] = dfs[1][dates2].apply(pd.to_datetime, errors=\"coerce\")"
   ]
  },
  {
   "cell_type": "code",
   "execution_count": 62,
   "id": "grave-violin",
   "metadata": {
    "collapsed": false,
    "jupyter": {
     "outputs_hidden": false
    },
    "pycharm": {
     "name": "#%%\n"
    }
   },
   "outputs": [
    {
     "data": {
      "text/plain": "order_purchase_timestamp\n2017-11-30    7288\n2018-01-31    7069\n2018-03-31    7003\n2018-04-30    6798\n2018-05-31    6749\n2018-02-28    6556\n2018-08-31    6351\n2018-07-31    6156\n2018-06-30    6096\n2017-12-31    5513\n2017-10-31    4478\n2017-08-31    4193\n2017-09-30    4149\n2017-07-31    3872\n2017-05-31    3545\n2017-06-30    3135\n2017-03-31    2546\n2017-04-30    2303\n2017-02-28    1641\n2017-01-31     748\n2016-10-31     270\n2016-12-31       1\n2016-09-30       1\n2016-11-30       0\nName: order_id, dtype: int64"
     },
     "execution_count": 62,
     "metadata": {},
     "output_type": "execute_result"
    }
   ],
   "source": [
    "dfs[1].groupby(pd.Grouper(key=\"order_purchase_timestamp\", freq=\"M\")).count()[\"order_id\"].sort_values(ascending=False)"
   ]
  },
  {
   "cell_type": "code",
   "execution_count": 63,
   "id": "loved-tokyo",
   "metadata": {
    "collapsed": false,
    "jupyter": {
     "outputs_hidden": false
    },
    "pycharm": {
     "name": "#%%\n"
    }
   },
   "outputs": [
    {
     "data": {
      "text/plain": "seller_city\nsao paulo         694\ncuritiba          127\nrio de janeiro     96\nbelo horizonte     68\nribeirao preto     52\n                 ... \nmuriae              1\nneopolis            1\nnhandeara           1\nnova lima           1\n04482255            1\nName: seller_id, Length: 611, dtype: int64"
     },
     "execution_count": 63,
     "metadata": {},
     "output_type": "execute_result"
    }
   ],
   "source": [
    "dfs[3].groupby(\"seller_city\").count()[\"seller_id\"].sort_values(ascending=False)"
   ]
  },
  {
   "cell_type": "code",
   "execution_count": 64,
   "id": "located-pasta",
   "metadata": {
    "collapsed": false,
    "jupyter": {
     "outputs_hidden": false
    },
    "pycharm": {
     "name": "#%%\n"
    }
   },
   "outputs": [
    {
     "data": {
      "text/plain": "seller_state\nSP    1849\nPR     349\nMG     244\nSC     190\nRJ     171\nRS     129\nGO      40\nDF      30\nES      23\nBA      19\nCE      13\nPE       9\nPB       6\nMS       5\nRN       5\nMT       4\nSE       2\nRO       2\nAM       1\nPA       1\nMA       1\nPI       1\nAC       1\nName: seller_id, dtype: int64"
     },
     "execution_count": 64,
     "metadata": {},
     "output_type": "execute_result"
    }
   ],
   "source": [
    "dfs[3].groupby(\"seller_state\").count()[\"seller_id\"].sort_values(ascending=False)"
   ]
  },
  {
   "cell_type": "code",
   "execution_count": 65,
   "id": "plastic-smooth",
   "metadata": {
    "collapsed": false,
    "jupyter": {
     "outputs_hidden": false
    },
    "pycharm": {
     "name": "#%%\n"
    }
   },
   "outputs": [
    {
     "data": {
      "text/plain": "review_score\n2     3151\n3     8179\n1    11424\n4    19142\n5    57328\nName: order_id, dtype: int64"
     },
     "execution_count": 65,
     "metadata": {},
     "output_type": "execute_result"
    }
   ],
   "source": [
    "dfs[0].groupby(\"review_score\").count()[\"order_id\"].sort_values()"
   ]
  },
  {
   "cell_type": "code",
   "execution_count": 66,
   "id": "imperial-vacuum",
   "metadata": {
    "collapsed": false,
    "jupyter": {
     "outputs_hidden": false
    },
    "pycharm": {
     "name": "#%%\n"
    }
   },
   "outputs": [
    {
     "data": {
      "text/plain": "order_status\ncanceled         6\ndelivered    96455\nName: order_id, dtype: int64"
     },
     "execution_count": 66,
     "metadata": {},
     "output_type": "execute_result"
    }
   ],
   "source": [
    "dfs[1].groupby(\"order_status\").count()[\"order_id\"].sort_values()"
   ]
  },
  {
   "cell_type": "code",
   "execution_count": 67,
   "id": "brazilian-nitrogen",
   "metadata": {
    "collapsed": false,
    "jupyter": {
     "outputs_hidden": false
    },
    "pycharm": {
     "name": "#%%\n"
    }
   },
   "outputs": [
    {
     "data": {
      "text/plain": "product_category_name\ncama_mesa_banho                  3029\nesporte_lazer                    2867\nmoveis_decoracao                 2657\nbeleza_saude                     2444\nutilidades_domesticas            2335\n                                 ... \ncasa_conforto_2                     5\nfashion_roupa_infanto_juvenil       5\npc_gamer                            3\nseguros_e_servicos                  2\ncds_dvds_musicais                   1\nName: product_id, Length: 74, dtype: int64"
     },
     "execution_count": 67,
     "metadata": {},
     "output_type": "execute_result"
    }
   ],
   "source": [
    "dfs[2].groupby(\"product_category_name\").count()[\"product_id\"].sort_values(ascending=False)"
   ]
  },
  {
   "cell_type": "markdown",
   "id": "modern-dispute",
   "metadata": {
    "pycharm": {
     "name": "#%% md\n"
    }
   },
   "source": [
    "## Standardisation"
   ]
  },
  {
   "cell_type": "code",
   "execution_count": 68,
   "id": "accessible-contrast",
   "metadata": {
    "collapsed": false,
    "jupyter": {
     "outputs_hidden": false
    },
    "pycharm": {
     "name": "#%%\n"
    }
   },
   "outputs": [],
   "source": [
    "reviews = dfs[0].copy()\n",
    "transf_col = list(reviews.select_dtypes([\"int64\", \"datetime64[ns]\"]).columns)\n",
    "date_cols = transf_col[1:]\n",
    "nums_cols = transf_col[0]\n",
    "min_max_scaler = preprocessing.MinMaxScaler()\n",
    "reviews[nums_cols] = min_max_scaler.fit_transform(reviews[nums_cols].to_numpy().reshape(-1, 1))\n",
    "#reviews[date_cols] = min_max_scaler.fit_transform(reviews[date_cols])"
   ]
  },
  {
   "cell_type": "code",
   "execution_count": 69,
   "id": "improved-plain",
   "metadata": {
    "collapsed": false,
    "jupyter": {
     "outputs_hidden": false
    },
    "pycharm": {
     "name": "#%%\n"
    }
   },
   "outputs": [],
   "source": [
    "orders = dfs[1].copy()\n",
    "cat_cols = [\"order_status\"]\n",
    "date_cols = list(dfs[1].select_dtypes(\"datetime64[ns]\").columns)\n",
    "orders[cat_cols] = orders[cat_cols].astype('category')\n",
    "#orders[date_cols] = min_max_scaler.fit_transform(orders[date_cols])"
   ]
  },
  {
   "cell_type": "code",
   "execution_count": 70,
   "id": "irish-haiti",
   "metadata": {
    "collapsed": false,
    "jupyter": {
     "outputs_hidden": false
    },
    "pycharm": {
     "name": "#%%\n"
    }
   },
   "outputs": [],
   "source": [
    "products = dfs[2].copy()\n",
    "cat_cols = [\"product_category_name\"]\n",
    "num_cols = list(dfs[2].select_dtypes(\"float64\").columns)\n",
    "\n",
    "products[cat_cols] = products[cat_cols].astype('category')\n",
    "products[num_cols] = min_max_scaler.fit_transform(products[num_cols])"
   ]
  },
  {
   "cell_type": "code",
   "execution_count": 71,
   "id": "separate-southwest",
   "metadata": {
    "collapsed": false,
    "jupyter": {
     "outputs_hidden": false
    },
    "pycharm": {
     "name": "#%%\n"
    }
   },
   "outputs": [],
   "source": [
    "sellers = dfs[3].copy()\n",
    "cat_cols = [\"seller_city\", \"seller_state\"]\n",
    "sellers[cat_cols] = sellers[cat_cols].astype('category')"
   ]
  },
  {
   "cell_type": "code",
   "execution_count": 72,
   "id": "owned-party",
   "metadata": {
    "collapsed": false,
    "jupyter": {
     "outputs_hidden": false
    },
    "pycharm": {
     "name": "#%%\n"
    }
   },
   "outputs": [],
   "source": [
    "products_translation = dfs[4].copy()\n",
    "products_translation = products_translation.astype(\"category\")"
   ]
  },
  {
   "cell_type": "code",
   "execution_count": 73,
   "outputs": [
    {
     "data": {
      "text/plain": "                                  order_id  order_status  \\\ncustomer_id                                                \n00012a2ce6f8dcda20d059ce98491703         1             1   \n000161a058600d5901f007fab4c27140         1             1   \n0001fd6190edaaf884bcaf3d49edf079         1             1   \n0002414f95344307404f0ace7a26f1d5         1             1   \n000379cdec625522490c315e70c7a9fb         1             1   \n...                                    ...           ...   \nfffcb937e9dd47a13f05ecb8290f4d3e         1             1   \nfffecc9f79fd8c764f843e9951b11341         1             1   \nfffeda5b6d849fbd39689bb92087f431         1             1   \nffff42319e9b2d713724ae527742af25         1             1   \nffffa3172527f765de70084a7e53aae8         1             1   \n\n                                  order_purchase_timestamp  order_approved_at  \\\ncustomer_id                                                                     \n00012a2ce6f8dcda20d059ce98491703                         1                  1   \n000161a058600d5901f007fab4c27140                         1                  1   \n0001fd6190edaaf884bcaf3d49edf079                         1                  1   \n0002414f95344307404f0ace7a26f1d5                         1                  1   \n000379cdec625522490c315e70c7a9fb                         1                  1   \n...                                                    ...                ...   \nfffcb937e9dd47a13f05ecb8290f4d3e                         1                  1   \nfffecc9f79fd8c764f843e9951b11341                         1                  1   \nfffeda5b6d849fbd39689bb92087f431                         1                  1   \nffff42319e9b2d713724ae527742af25                         1                  1   \nffffa3172527f765de70084a7e53aae8                         1                  1   \n\n                                  order_delivered_carrier_date  \\\ncustomer_id                                                      \n00012a2ce6f8dcda20d059ce98491703                             1   \n000161a058600d5901f007fab4c27140                             1   \n0001fd6190edaaf884bcaf3d49edf079                             1   \n0002414f95344307404f0ace7a26f1d5                             1   \n000379cdec625522490c315e70c7a9fb                             1   \n...                                                        ...   \nfffcb937e9dd47a13f05ecb8290f4d3e                             1   \nfffecc9f79fd8c764f843e9951b11341                             1   \nfffeda5b6d849fbd39689bb92087f431                             1   \nffff42319e9b2d713724ae527742af25                             1   \nffffa3172527f765de70084a7e53aae8                             1   \n\n                                  order_delivered_customer_date  \\\ncustomer_id                                                       \n00012a2ce6f8dcda20d059ce98491703                              1   \n000161a058600d5901f007fab4c27140                              1   \n0001fd6190edaaf884bcaf3d49edf079                              1   \n0002414f95344307404f0ace7a26f1d5                              1   \n000379cdec625522490c315e70c7a9fb                              1   \n...                                                         ...   \nfffcb937e9dd47a13f05ecb8290f4d3e                              1   \nfffecc9f79fd8c764f843e9951b11341                              1   \nfffeda5b6d849fbd39689bb92087f431                              1   \nffff42319e9b2d713724ae527742af25                              1   \nffffa3172527f765de70084a7e53aae8                              1   \n\n                                  order_estimated_delivery_date  \ncustomer_id                                                      \n00012a2ce6f8dcda20d059ce98491703                              1  \n000161a058600d5901f007fab4c27140                              1  \n0001fd6190edaaf884bcaf3d49edf079                              1  \n0002414f95344307404f0ace7a26f1d5                              1  \n000379cdec625522490c315e70c7a9fb                              1  \n...                                                         ...  \nfffcb937e9dd47a13f05ecb8290f4d3e                              1  \nfffecc9f79fd8c764f843e9951b11341                              1  \nfffeda5b6d849fbd39689bb92087f431                              1  \nffff42319e9b2d713724ae527742af25                              1  \nffffa3172527f765de70084a7e53aae8                              1  \n\n[96461 rows x 7 columns]",
      "text/html": "<div>\n<style scoped>\n    .dataframe tbody tr th:only-of-type {\n        vertical-align: middle;\n    }\n\n    .dataframe tbody tr th {\n        vertical-align: top;\n    }\n\n    .dataframe thead th {\n        text-align: right;\n    }\n</style>\n<table border=\"1\" class=\"dataframe\">\n  <thead>\n    <tr style=\"text-align: right;\">\n      <th></th>\n      <th>order_id</th>\n      <th>order_status</th>\n      <th>order_purchase_timestamp</th>\n      <th>order_approved_at</th>\n      <th>order_delivered_carrier_date</th>\n      <th>order_delivered_customer_date</th>\n      <th>order_estimated_delivery_date</th>\n    </tr>\n    <tr>\n      <th>customer_id</th>\n      <th></th>\n      <th></th>\n      <th></th>\n      <th></th>\n      <th></th>\n      <th></th>\n      <th></th>\n    </tr>\n  </thead>\n  <tbody>\n    <tr>\n      <th>00012a2ce6f8dcda20d059ce98491703</th>\n      <td>1</td>\n      <td>1</td>\n      <td>1</td>\n      <td>1</td>\n      <td>1</td>\n      <td>1</td>\n      <td>1</td>\n    </tr>\n    <tr>\n      <th>000161a058600d5901f007fab4c27140</th>\n      <td>1</td>\n      <td>1</td>\n      <td>1</td>\n      <td>1</td>\n      <td>1</td>\n      <td>1</td>\n      <td>1</td>\n    </tr>\n    <tr>\n      <th>0001fd6190edaaf884bcaf3d49edf079</th>\n      <td>1</td>\n      <td>1</td>\n      <td>1</td>\n      <td>1</td>\n      <td>1</td>\n      <td>1</td>\n      <td>1</td>\n    </tr>\n    <tr>\n      <th>0002414f95344307404f0ace7a26f1d5</th>\n      <td>1</td>\n      <td>1</td>\n      <td>1</td>\n      <td>1</td>\n      <td>1</td>\n      <td>1</td>\n      <td>1</td>\n    </tr>\n    <tr>\n      <th>000379cdec625522490c315e70c7a9fb</th>\n      <td>1</td>\n      <td>1</td>\n      <td>1</td>\n      <td>1</td>\n      <td>1</td>\n      <td>1</td>\n      <td>1</td>\n    </tr>\n    <tr>\n      <th>...</th>\n      <td>...</td>\n      <td>...</td>\n      <td>...</td>\n      <td>...</td>\n      <td>...</td>\n      <td>...</td>\n      <td>...</td>\n    </tr>\n    <tr>\n      <th>fffcb937e9dd47a13f05ecb8290f4d3e</th>\n      <td>1</td>\n      <td>1</td>\n      <td>1</td>\n      <td>1</td>\n      <td>1</td>\n      <td>1</td>\n      <td>1</td>\n    </tr>\n    <tr>\n      <th>fffecc9f79fd8c764f843e9951b11341</th>\n      <td>1</td>\n      <td>1</td>\n      <td>1</td>\n      <td>1</td>\n      <td>1</td>\n      <td>1</td>\n      <td>1</td>\n    </tr>\n    <tr>\n      <th>fffeda5b6d849fbd39689bb92087f431</th>\n      <td>1</td>\n      <td>1</td>\n      <td>1</td>\n      <td>1</td>\n      <td>1</td>\n      <td>1</td>\n      <td>1</td>\n    </tr>\n    <tr>\n      <th>ffff42319e9b2d713724ae527742af25</th>\n      <td>1</td>\n      <td>1</td>\n      <td>1</td>\n      <td>1</td>\n      <td>1</td>\n      <td>1</td>\n      <td>1</td>\n    </tr>\n    <tr>\n      <th>ffffa3172527f765de70084a7e53aae8</th>\n      <td>1</td>\n      <td>1</td>\n      <td>1</td>\n      <td>1</td>\n      <td>1</td>\n      <td>1</td>\n      <td>1</td>\n    </tr>\n  </tbody>\n</table>\n<p>96461 rows × 7 columns</p>\n</div>"
     },
     "execution_count": 73,
     "metadata": {},
     "output_type": "execute_result"
    }
   ],
   "source": [
    "orders.groupby(\"customer_id\").count()"
   ],
   "metadata": {
    "collapsed": false,
    "pycharm": {
     "name": "#%%\n"
    }
   }
  },
  {
   "cell_type": "markdown",
   "id": "royal-allah",
   "metadata": {
    "pycharm": {
     "name": "#%% md\n"
    }
   },
   "source": [
    "# Merge\n",
    "\n",
    "Nous avons suivi le schéma suivant pour fusionner les tables\n",
    "\n",
    "![image info](BDD.png)"
   ]
  },
  {
   "cell_type": "code",
   "execution_count": 74,
   "id": "ultimate-glory",
   "metadata": {},
   "outputs": [],
   "source": [
    "order_final = pd.merge(orders, payments, how='inner', on='order_id')\n",
    "order_final = pd.merge(order_final, reviews, how='inner', on='order_id')\n",
    "order_final = pd.merge(order_final, customers, how='inner', on='customer_id')"
   ]
  },
  {
   "cell_type": "code",
   "execution_count": 75,
   "id": "technological-amateur",
   "metadata": {},
   "outputs": [
    {
     "data": {
      "text/plain": "Index(['order_id', 'customer_id', 'order_status', 'order_purchase_timestamp',\n       'order_approved_at', 'order_delivered_carrier_date',\n       'order_delivered_customer_date', 'order_estimated_delivery_date',\n       'payment_sequential', 'payment_type', 'payment_installments',\n       'payment_value', 'payment_type_cat', 'quant_payment_value', 'review_id',\n       'review_score', 'review_creation_date', 'review_answer_timestamp',\n       'customer_unique_id', 'customer_zip_code_prefix', 'customer_city',\n       'customer_state', 'state_cat'],\n      dtype='object')"
     },
     "execution_count": 75,
     "metadata": {},
     "output_type": "execute_result"
    }
   ],
   "source": [
    "order_final.columns"
   ]
  },
  {
   "cell_type": "code",
   "execution_count": 76,
   "id": "written-appreciation",
   "metadata": {},
   "outputs": [],
   "source": [
    "items_final = pd.merge(items, products, how='inner', on='product_id')\n",
    "items_final = pd.merge(items_final, sellers, how='inner', on='seller_id')"
   ]
  },
  {
   "cell_type": "code",
   "execution_count": 77,
   "id": "genetic-template",
   "metadata": {},
   "outputs": [],
   "source": [
    "df_final = pd.merge(order_final, items_final, how='inner', on='order_id')\n",
    "df_final = pd.merge(df_final, products_translation, how='inner', on='product_category_name')"
   ]
  },
  {
   "cell_type": "code",
   "execution_count": 78,
   "id": "generic-frost",
   "metadata": {},
   "outputs": [
    {
     "data": {
      "text/plain": "Index(['order_id', 'customer_id', 'order_status', 'order_purchase_timestamp',\n       'order_approved_at', 'order_delivered_carrier_date',\n       'order_delivered_customer_date', 'order_estimated_delivery_date',\n       'payment_sequential', 'payment_type', 'payment_installments',\n       'payment_value', 'payment_type_cat', 'quant_payment_value', 'review_id',\n       'review_score', 'review_creation_date', 'review_answer_timestamp',\n       'customer_unique_id', 'customer_zip_code_prefix', 'customer_city',\n       'customer_state', 'state_cat', 'order_item_id', 'product_id',\n       'seller_id', 'shipping_limit_date', 'price', 'freight_value',\n       'log_price', 'log_freight_value', 'product_category_name',\n       'product_weight_g', 'product_length_cm', 'product_height_cm',\n       'product_width_cm', 'seller_zip_code_prefix', 'seller_city',\n       'seller_state', 'product_category_name_english'],\n      dtype='object')"
     },
     "execution_count": 78,
     "metadata": {},
     "output_type": "execute_result"
    }
   ],
   "source": [
    "df_final.columns"
   ]
  },
  {
   "cell_type": "code",
   "execution_count": 79,
   "id": "cloudy-fiction",
   "metadata": {},
   "outputs": [],
   "source": [
    "df_final = df_final.drop('product_category_name', axis=1)"
   ]
  },
  {
   "cell_type": "code",
   "execution_count": 80,
   "id": "practical-peter",
   "metadata": {},
   "outputs": [
    {
     "data": {
      "text/plain": "                           order_id                       customer_id  \\\n0  e481f51cbdc54678b7cc49136f2d6af7  9ef432eb6251297304e76186b10a928d   \n1  e481f51cbdc54678b7cc49136f2d6af7  9ef432eb6251297304e76186b10a928d   \n2  e481f51cbdc54678b7cc49136f2d6af7  9ef432eb6251297304e76186b10a928d   \n3  6ea2f835b4556291ffdc53fa0b3b95e8  c7340080e394356141681bd4c9b8fe31   \n4  82bce245b1c9148f8d19a55b9ff70644  388025bec8128ff20ec1a316ed4dcf02   \n\n  order_status order_purchase_timestamp   order_approved_at  \\\n0    delivered      2017-10-02 10:56:33 2017-10-02 11:07:15   \n1    delivered      2017-10-02 10:56:33 2017-10-02 11:07:15   \n2    delivered      2017-10-02 10:56:33 2017-10-02 11:07:15   \n3    delivered      2017-11-24 21:27:48 2017-11-25 00:21:09   \n4    delivered      2017-04-20 17:15:46 2017-04-21 05:15:56   \n\n  order_delivered_carrier_date order_delivered_customer_date  \\\n0          2017-10-04 19:55:00           2017-10-10 21:25:13   \n1          2017-10-04 19:55:00           2017-10-10 21:25:13   \n2          2017-10-04 19:55:00           2017-10-10 21:25:13   \n3          2017-12-13 21:14:05           2017-12-28 18:59:23   \n4          2017-04-24 09:34:13           2017-05-10 09:17:55   \n\n  order_estimated_delivery_date  payment_sequential payment_type  ...  \\\n0                    2017-10-18                   1  credit_card  ...   \n1                    2017-10-18                   3      voucher  ...   \n2                    2017-10-18                   2      voucher  ...   \n3                    2017-12-21                   1  credit_card  ...   \n4                    2017-05-12                   1       boleto  ...   \n\n   log_price  log_freight_value product_weight_g  product_length_cm  \\\n0   3.400864           2.165619         0.012369           0.122449   \n1   3.400864           2.165619         0.012369           0.122449   \n2   3.400864           2.165619         0.012369           0.122449   \n3   5.826000           2.840247         0.353741           0.316327   \n4   3.637586           2.744704         0.017440           0.275510   \n\n  product_height_cm  product_width_cm seller_zip_code_prefix seller_city  \\\n0          0.058252          0.062500                   9350        maua   \n1          0.058252          0.062500                   9350        maua   \n2          0.058252          0.062500                   9350        maua   \n3          0.310680          0.250000                  89165  rio do sul   \n4          0.194175          0.196429                   4445   sao paulo   \n\n  seller_state  product_category_name_english  \n0           SP                     housewares  \n1           SP                     housewares  \n2           SP                     housewares  \n3           SC                     housewares  \n4           SP                     housewares  \n\n[5 rows x 39 columns]",
      "text/html": "<div>\n<style scoped>\n    .dataframe tbody tr th:only-of-type {\n        vertical-align: middle;\n    }\n\n    .dataframe tbody tr th {\n        vertical-align: top;\n    }\n\n    .dataframe thead th {\n        text-align: right;\n    }\n</style>\n<table border=\"1\" class=\"dataframe\">\n  <thead>\n    <tr style=\"text-align: right;\">\n      <th></th>\n      <th>order_id</th>\n      <th>customer_id</th>\n      <th>order_status</th>\n      <th>order_purchase_timestamp</th>\n      <th>order_approved_at</th>\n      <th>order_delivered_carrier_date</th>\n      <th>order_delivered_customer_date</th>\n      <th>order_estimated_delivery_date</th>\n      <th>payment_sequential</th>\n      <th>payment_type</th>\n      <th>...</th>\n      <th>log_price</th>\n      <th>log_freight_value</th>\n      <th>product_weight_g</th>\n      <th>product_length_cm</th>\n      <th>product_height_cm</th>\n      <th>product_width_cm</th>\n      <th>seller_zip_code_prefix</th>\n      <th>seller_city</th>\n      <th>seller_state</th>\n      <th>product_category_name_english</th>\n    </tr>\n  </thead>\n  <tbody>\n    <tr>\n      <th>0</th>\n      <td>e481f51cbdc54678b7cc49136f2d6af7</td>\n      <td>9ef432eb6251297304e76186b10a928d</td>\n      <td>delivered</td>\n      <td>2017-10-02 10:56:33</td>\n      <td>2017-10-02 11:07:15</td>\n      <td>2017-10-04 19:55:00</td>\n      <td>2017-10-10 21:25:13</td>\n      <td>2017-10-18</td>\n      <td>1</td>\n      <td>credit_card</td>\n      <td>...</td>\n      <td>3.400864</td>\n      <td>2.165619</td>\n      <td>0.012369</td>\n      <td>0.122449</td>\n      <td>0.058252</td>\n      <td>0.062500</td>\n      <td>9350</td>\n      <td>maua</td>\n      <td>SP</td>\n      <td>housewares</td>\n    </tr>\n    <tr>\n      <th>1</th>\n      <td>e481f51cbdc54678b7cc49136f2d6af7</td>\n      <td>9ef432eb6251297304e76186b10a928d</td>\n      <td>delivered</td>\n      <td>2017-10-02 10:56:33</td>\n      <td>2017-10-02 11:07:15</td>\n      <td>2017-10-04 19:55:00</td>\n      <td>2017-10-10 21:25:13</td>\n      <td>2017-10-18</td>\n      <td>3</td>\n      <td>voucher</td>\n      <td>...</td>\n      <td>3.400864</td>\n      <td>2.165619</td>\n      <td>0.012369</td>\n      <td>0.122449</td>\n      <td>0.058252</td>\n      <td>0.062500</td>\n      <td>9350</td>\n      <td>maua</td>\n      <td>SP</td>\n      <td>housewares</td>\n    </tr>\n    <tr>\n      <th>2</th>\n      <td>e481f51cbdc54678b7cc49136f2d6af7</td>\n      <td>9ef432eb6251297304e76186b10a928d</td>\n      <td>delivered</td>\n      <td>2017-10-02 10:56:33</td>\n      <td>2017-10-02 11:07:15</td>\n      <td>2017-10-04 19:55:00</td>\n      <td>2017-10-10 21:25:13</td>\n      <td>2017-10-18</td>\n      <td>2</td>\n      <td>voucher</td>\n      <td>...</td>\n      <td>3.400864</td>\n      <td>2.165619</td>\n      <td>0.012369</td>\n      <td>0.122449</td>\n      <td>0.058252</td>\n      <td>0.062500</td>\n      <td>9350</td>\n      <td>maua</td>\n      <td>SP</td>\n      <td>housewares</td>\n    </tr>\n    <tr>\n      <th>3</th>\n      <td>6ea2f835b4556291ffdc53fa0b3b95e8</td>\n      <td>c7340080e394356141681bd4c9b8fe31</td>\n      <td>delivered</td>\n      <td>2017-11-24 21:27:48</td>\n      <td>2017-11-25 00:21:09</td>\n      <td>2017-12-13 21:14:05</td>\n      <td>2017-12-28 18:59:23</td>\n      <td>2017-12-21</td>\n      <td>1</td>\n      <td>credit_card</td>\n      <td>...</td>\n      <td>5.826000</td>\n      <td>2.840247</td>\n      <td>0.353741</td>\n      <td>0.316327</td>\n      <td>0.310680</td>\n      <td>0.250000</td>\n      <td>89165</td>\n      <td>rio do sul</td>\n      <td>SC</td>\n      <td>housewares</td>\n    </tr>\n    <tr>\n      <th>4</th>\n      <td>82bce245b1c9148f8d19a55b9ff70644</td>\n      <td>388025bec8128ff20ec1a316ed4dcf02</td>\n      <td>delivered</td>\n      <td>2017-04-20 17:15:46</td>\n      <td>2017-04-21 05:15:56</td>\n      <td>2017-04-24 09:34:13</td>\n      <td>2017-05-10 09:17:55</td>\n      <td>2017-05-12</td>\n      <td>1</td>\n      <td>boleto</td>\n      <td>...</td>\n      <td>3.637586</td>\n      <td>2.744704</td>\n      <td>0.017440</td>\n      <td>0.275510</td>\n      <td>0.194175</td>\n      <td>0.196429</td>\n      <td>4445</td>\n      <td>sao paulo</td>\n      <td>SP</td>\n      <td>housewares</td>\n    </tr>\n  </tbody>\n</table>\n<p>5 rows × 39 columns</p>\n</div>"
     },
     "execution_count": 80,
     "metadata": {},
     "output_type": "execute_result"
    }
   ],
   "source": [
    "df_final.head()"
   ]
  },
  {
   "cell_type": "markdown",
   "id": "common-helping",
   "metadata": {},
   "source": [
    "# Etude des données\n",
    "\n",
    "## Fréquence et quantité d'achat"
   ]
  },
  {
   "cell_type": "code",
   "execution_count": 81,
   "id": "wrapped-status",
   "metadata": {},
   "outputs": [],
   "source": [
    "def comp_delta_date(x):\n",
    "    '''Fonction destinée à calculer la différence moyenne entre chaque date'''\n",
    "    if x.shape[0] == 1:\n",
    "        return 0\n",
    "    i = 0\n",
    "    for date in x:\n",
    "        if i == 0:\n",
    "            temp = date\n",
    "        else:\n",
    "            None\n",
    "             "
   ]
  },
  {
   "cell_type": "code",
   "execution_count": 82,
   "id": "growing-remedy",
   "metadata": {},
   "outputs": [],
   "source": [
    "# Combien de fois chaque client a acheté sur ce site\n",
    "\n",
    "customer_nb_achat = df_final.groupby('customer_id').count().order_id\n",
    "customer_total_paiments = df_final[['customer_id', 'payment_value']].groupby('customer_id').sum().payment_value\n",
    "customer_mean_freq = df_final[['customer_id', 'order_purchase_timestamp']].groupby('customer_id').diff()"
   ]
  },
  {
   "cell_type": "code",
   "execution_count": 83,
   "id": "timely-control",
   "metadata": {},
   "outputs": [
    {
     "data": {
      "text/plain": "customer_id\n270c23a11d024a44c896d1894b261a83    63\n13aa59158da63ba0e93ec6ac2c07aacb    38\n92cd3ec6e2d643d4ebd0e3d6238f69e2    26\nd22f25a9fadfb1abbc2e29395b1239f4    24\n63b964e79dee32a3587651701a2b8dbf    24\n86cc80fef09f7f39df4b0dbce48e81cb    24\n6ee2f17e3b6c33d6a9557f280edd2925    24\n2ba91e12e5e4c9f56b82b86d9031d329    24\nb246eeed30b362c09d867b9e598bee51    22\nbe1c4e52bb71e0c54b11a26b8e8d59f2    22\nName: order_id, dtype: int64"
     },
     "execution_count": 83,
     "metadata": {},
     "output_type": "execute_result"
    }
   ],
   "source": [
    "customer_nb_achat.sort_values(ascending=False).head(10)"
   ]
  },
  {
   "cell_type": "code",
   "execution_count": 84,
   "id": "automatic-pharmacy",
   "metadata": {},
   "outputs": [
    {
     "data": {
      "text/plain": "customer_id\n1617b1357756262bfa56ab541c47bc16    109312.64\nbe1b70680b9f9694d8c70f41fa3dc92b     44048.00\n05455dfa7cd02f13d132aa7a6a9729c6     36489.24\n1ff773612ab8934db89fd5afa8afe506     30186.00\nec5b2ba62e574342386871631fafd3fc     29099.52\n                                      ...    \nd2c63ad286e3ca9dd69218008d61ff81        11.62\n046f890135acc703faff4c1fc0c2d73c        11.56\n8e4bd65db637116b6b68109e4df21b84        10.89\n184e8e8e48937145eb96c721ef1f0747        10.07\na790343ca6f3fee08112d678b43aa7c5         9.59\nName: payment_value, Length: 94470, dtype: float64"
     },
     "execution_count": 84,
     "metadata": {},
     "output_type": "execute_result"
    }
   ],
   "source": [
    "customer_total_paiments.sort_values(ascending=False)"
   ]
  },
  {
   "cell_type": "code",
   "execution_count": 85,
   "id": "subjective-burst",
   "metadata": {},
   "outputs": [
    {
     "data": {
      "text/plain": "       order_purchase_timestamp\n0                           NaT\n1                        0 days\n2                        0 days\n3                           NaT\n4                           NaT\n...                         ...\n113182                      NaT\n113183                   0 days\n113184                      NaT\n113185                      NaT\n113186                      NaT\n\n[113187 rows x 1 columns]",
      "text/html": "<div>\n<style scoped>\n    .dataframe tbody tr th:only-of-type {\n        vertical-align: middle;\n    }\n\n    .dataframe tbody tr th {\n        vertical-align: top;\n    }\n\n    .dataframe thead th {\n        text-align: right;\n    }\n</style>\n<table border=\"1\" class=\"dataframe\">\n  <thead>\n    <tr style=\"text-align: right;\">\n      <th></th>\n      <th>order_purchase_timestamp</th>\n    </tr>\n  </thead>\n  <tbody>\n    <tr>\n      <th>0</th>\n      <td>NaT</td>\n    </tr>\n    <tr>\n      <th>1</th>\n      <td>0 days</td>\n    </tr>\n    <tr>\n      <th>2</th>\n      <td>0 days</td>\n    </tr>\n    <tr>\n      <th>3</th>\n      <td>NaT</td>\n    </tr>\n    <tr>\n      <th>4</th>\n      <td>NaT</td>\n    </tr>\n    <tr>\n      <th>...</th>\n      <td>...</td>\n    </tr>\n    <tr>\n      <th>113182</th>\n      <td>NaT</td>\n    </tr>\n    <tr>\n      <th>113183</th>\n      <td>0 days</td>\n    </tr>\n    <tr>\n      <th>113184</th>\n      <td>NaT</td>\n    </tr>\n    <tr>\n      <th>113185</th>\n      <td>NaT</td>\n    </tr>\n    <tr>\n      <th>113186</th>\n      <td>NaT</td>\n    </tr>\n  </tbody>\n</table>\n<p>113187 rows × 1 columns</p>\n</div>"
     },
     "execution_count": 85,
     "metadata": {},
     "output_type": "execute_result"
    }
   ],
   "source": [
    "customer_mean_freq"
   ]
  },
  {
   "cell_type": "code",
   "execution_count": 98,
   "outputs": [],
   "source": [
    "## En combien de fois le client paye en moyenne\n",
    "df1 = df_final.groupby([\"customer_unique_id\"])[\"payment_sequential\"].median()"
   ],
   "metadata": {
    "collapsed": false,
    "pycharm": {
     "name": "#%%\n"
    }
   }
  },
  {
   "cell_type": "code",
   "execution_count": 99,
   "outputs": [],
   "source": [
    "## Note moyenne de statisfaction du client\n",
    "df2 = df_final.groupby([\"customer_unique_id\"])[\"review_score\"].median()"
   ],
   "metadata": {
    "collapsed": false,
    "pycharm": {
     "name": "#%%\n"
    }
   }
  },
  {
   "cell_type": "code",
   "execution_count": 101,
   "outputs": [
    {
     "data": {
      "text/plain": "                     customer_unique_id payment_type\n0      0000366f3b9a7992bf8c76cfdf3221e2  credit_card\n1      0000b849f77a49e4a4ce2b2a4ca5be3f  credit_card\n2      0000f46a3911fa3c0805444483337064  credit_card\n3      0000f6ccb0745a6a4b88665a16c9f078  credit_card\n4      0004aac84e0df4da2b147fca70cf8255  credit_card\n...                                 ...          ...\n91459  fffcf5a5ff07b0908bd4e2dbc735a684  credit_card\n91460  fffea47cd6d3cc0a88bd621562a9d061  credit_card\n91461  ffff371b4d645b6ecea244b27531430a  credit_card\n91462  ffff5962728ec6157033ef9805bacc48  credit_card\n91463  ffffd2657e2aad2907e67c3e9daecbeb  credit_card\n\n[91464 rows x 2 columns]",
      "text/html": "<div>\n<style scoped>\n    .dataframe tbody tr th:only-of-type {\n        vertical-align: middle;\n    }\n\n    .dataframe tbody tr th {\n        vertical-align: top;\n    }\n\n    .dataframe thead th {\n        text-align: right;\n    }\n</style>\n<table border=\"1\" class=\"dataframe\">\n  <thead>\n    <tr style=\"text-align: right;\">\n      <th></th>\n      <th>customer_unique_id</th>\n      <th>payment_type</th>\n    </tr>\n  </thead>\n  <tbody>\n    <tr>\n      <th>0</th>\n      <td>0000366f3b9a7992bf8c76cfdf3221e2</td>\n      <td>credit_card</td>\n    </tr>\n    <tr>\n      <th>1</th>\n      <td>0000b849f77a49e4a4ce2b2a4ca5be3f</td>\n      <td>credit_card</td>\n    </tr>\n    <tr>\n      <th>2</th>\n      <td>0000f46a3911fa3c0805444483337064</td>\n      <td>credit_card</td>\n    </tr>\n    <tr>\n      <th>3</th>\n      <td>0000f6ccb0745a6a4b88665a16c9f078</td>\n      <td>credit_card</td>\n    </tr>\n    <tr>\n      <th>4</th>\n      <td>0004aac84e0df4da2b147fca70cf8255</td>\n      <td>credit_card</td>\n    </tr>\n    <tr>\n      <th>...</th>\n      <td>...</td>\n      <td>...</td>\n    </tr>\n    <tr>\n      <th>91459</th>\n      <td>fffcf5a5ff07b0908bd4e2dbc735a684</td>\n      <td>credit_card</td>\n    </tr>\n    <tr>\n      <th>91460</th>\n      <td>fffea47cd6d3cc0a88bd621562a9d061</td>\n      <td>credit_card</td>\n    </tr>\n    <tr>\n      <th>91461</th>\n      <td>ffff371b4d645b6ecea244b27531430a</td>\n      <td>credit_card</td>\n    </tr>\n    <tr>\n      <th>91462</th>\n      <td>ffff5962728ec6157033ef9805bacc48</td>\n      <td>credit_card</td>\n    </tr>\n    <tr>\n      <th>91463</th>\n      <td>ffffd2657e2aad2907e67c3e9daecbeb</td>\n      <td>credit_card</td>\n    </tr>\n  </tbody>\n</table>\n<p>91464 rows × 2 columns</p>\n</div>"
     },
     "execution_count": 101,
     "metadata": {},
     "output_type": "execute_result"
    }
   ],
   "source": [
    "## Type de paiment utilisé en moyenne\n",
    "## transformation par l'encodage du type de paiement -> récupération de la valeur médianne -> transfo d'encodage inverse\n",
    "\n",
    "df_payment_type = df_final[[\"customer_unique_id\", \"payment_type\"]]\n",
    "encoder = preprocessing.LabelEncoder()\n",
    "encoder.fit(df_payment_type[\"payment_type\"])\n",
    "\n",
    "df_payment_type[\"payment_type\"] = encoder.transform(df_payment_type[\"payment_type\"])\n",
    "\n",
    "df3 = df_payment_type.groupby([\"customer_unique_id\"])[\"payment_type\"].median().astype(int).reset_index()\n",
    "df3[\"payment_type\"] = encoder.inverse_transform(df3[\"payment_type\"])\n",
    "\n",
    "df3"
   ],
   "metadata": {
    "collapsed": false,
    "pycharm": {
     "name": "#%%\n"
    }
   }
  },
  {
   "cell_type": "code",
   "execution_count": 102,
   "outputs": [
    {
     "data": {
      "text/plain": "                     customer_unique_id product_category_name_english\n0      0000366f3b9a7992bf8c76cfdf3221e2                bed_bath_table\n1      0000b849f77a49e4a4ce2b2a4ca5be3f                 health_beauty\n2      0000f46a3911fa3c0805444483337064                    stationery\n3      0000f6ccb0745a6a4b88665a16c9f078                     telephony\n4      0004aac84e0df4da2b147fca70cf8255                     telephony\n...                                 ...                           ...\n91459  fffcf5a5ff07b0908bd4e2dbc735a684                 health_beauty\n91460  fffea47cd6d3cc0a88bd621562a9d061                          baby\n91461  ffff371b4d645b6ecea244b27531430a                          auto\n91462  ffff5962728ec6157033ef9805bacc48                 watches_gifts\n91463  ffffd2657e2aad2907e67c3e9daecbeb                     perfumery\n\n[91464 rows x 2 columns]",
      "text/html": "<div>\n<style scoped>\n    .dataframe tbody tr th:only-of-type {\n        vertical-align: middle;\n    }\n\n    .dataframe tbody tr th {\n        vertical-align: top;\n    }\n\n    .dataframe thead th {\n        text-align: right;\n    }\n</style>\n<table border=\"1\" class=\"dataframe\">\n  <thead>\n    <tr style=\"text-align: right;\">\n      <th></th>\n      <th>customer_unique_id</th>\n      <th>product_category_name_english</th>\n    </tr>\n  </thead>\n  <tbody>\n    <tr>\n      <th>0</th>\n      <td>0000366f3b9a7992bf8c76cfdf3221e2</td>\n      <td>bed_bath_table</td>\n    </tr>\n    <tr>\n      <th>1</th>\n      <td>0000b849f77a49e4a4ce2b2a4ca5be3f</td>\n      <td>health_beauty</td>\n    </tr>\n    <tr>\n      <th>2</th>\n      <td>0000f46a3911fa3c0805444483337064</td>\n      <td>stationery</td>\n    </tr>\n    <tr>\n      <th>3</th>\n      <td>0000f6ccb0745a6a4b88665a16c9f078</td>\n      <td>telephony</td>\n    </tr>\n    <tr>\n      <th>4</th>\n      <td>0004aac84e0df4da2b147fca70cf8255</td>\n      <td>telephony</td>\n    </tr>\n    <tr>\n      <th>...</th>\n      <td>...</td>\n      <td>...</td>\n    </tr>\n    <tr>\n      <th>91459</th>\n      <td>fffcf5a5ff07b0908bd4e2dbc735a684</td>\n      <td>health_beauty</td>\n    </tr>\n    <tr>\n      <th>91460</th>\n      <td>fffea47cd6d3cc0a88bd621562a9d061</td>\n      <td>baby</td>\n    </tr>\n    <tr>\n      <th>91461</th>\n      <td>ffff371b4d645b6ecea244b27531430a</td>\n      <td>auto</td>\n    </tr>\n    <tr>\n      <th>91462</th>\n      <td>ffff5962728ec6157033ef9805bacc48</td>\n      <td>watches_gifts</td>\n    </tr>\n    <tr>\n      <th>91463</th>\n      <td>ffffd2657e2aad2907e67c3e9daecbeb</td>\n      <td>perfumery</td>\n    </tr>\n  </tbody>\n</table>\n<p>91464 rows × 2 columns</p>\n</div>"
     },
     "execution_count": 102,
     "metadata": {},
     "output_type": "execute_result"
    }
   ],
   "source": [
    "## Type de produit acheté en general\n",
    "\n",
    "df_product_cat = df_final[[\"customer_unique_id\", \"product_category_name_english\"]]\n",
    "encoder = preprocessing.LabelEncoder()\n",
    "encoder.fit(df_product_cat[\"product_category_name_english\"])\n",
    "\n",
    "df_product_cat[\"product_category_name_english\"] = encoder.transform(df_product_cat[\"product_category_name_english\"])\n",
    "\n",
    "df4 = df_product_cat.groupby([\"customer_unique_id\"])[\"product_category_name_english\"].median().astype(int).reset_index()\n",
    "df4[\"product_category_name_english\"] = encoder.inverse_transform(df4[\"product_category_name_english\"])\n",
    "\n",
    "df4"
   ],
   "metadata": {
    "collapsed": false,
    "pycharm": {
     "name": "#%%\n"
    }
   }
  },
  {
   "cell_type": "code",
   "execution_count": 105,
   "outputs": [
    {
     "data": {
      "text/plain": "                     customer_unique_id  payment_sequential  review_score  \\\n0      0000366f3b9a7992bf8c76cfdf3221e2                 1.0          1.00   \n1      0000b849f77a49e4a4ce2b2a4ca5be3f                 1.0          0.75   \n2      0000f46a3911fa3c0805444483337064                 1.0          0.50   \n3      0000f6ccb0745a6a4b88665a16c9f078                 1.0          0.75   \n4      0004aac84e0df4da2b147fca70cf8255                 1.0          1.00   \n...                                 ...                 ...           ...   \n91459  fffcf5a5ff07b0908bd4e2dbc735a684                 1.0          1.00   \n91460  fffea47cd6d3cc0a88bd621562a9d061                 1.0          0.75   \n91461  ffff371b4d645b6ecea244b27531430a                 1.0          1.00   \n91462  ffff5962728ec6157033ef9805bacc48                 1.0          1.00   \n91463  ffffd2657e2aad2907e67c3e9daecbeb                 1.0          1.00   \n\n      payment_type product_category_name_english  \n0      credit_card                bed_bath_table  \n1      credit_card                 health_beauty  \n2      credit_card                    stationery  \n3      credit_card                     telephony  \n4      credit_card                     telephony  \n...            ...                           ...  \n91459  credit_card                 health_beauty  \n91460  credit_card                          baby  \n91461  credit_card                          auto  \n91462  credit_card                 watches_gifts  \n91463  credit_card                     perfumery  \n\n[91464 rows x 5 columns]",
      "text/html": "<div>\n<style scoped>\n    .dataframe tbody tr th:only-of-type {\n        vertical-align: middle;\n    }\n\n    .dataframe tbody tr th {\n        vertical-align: top;\n    }\n\n    .dataframe thead th {\n        text-align: right;\n    }\n</style>\n<table border=\"1\" class=\"dataframe\">\n  <thead>\n    <tr style=\"text-align: right;\">\n      <th></th>\n      <th>customer_unique_id</th>\n      <th>payment_sequential</th>\n      <th>review_score</th>\n      <th>payment_type</th>\n      <th>product_category_name_english</th>\n    </tr>\n  </thead>\n  <tbody>\n    <tr>\n      <th>0</th>\n      <td>0000366f3b9a7992bf8c76cfdf3221e2</td>\n      <td>1.0</td>\n      <td>1.00</td>\n      <td>credit_card</td>\n      <td>bed_bath_table</td>\n    </tr>\n    <tr>\n      <th>1</th>\n      <td>0000b849f77a49e4a4ce2b2a4ca5be3f</td>\n      <td>1.0</td>\n      <td>0.75</td>\n      <td>credit_card</td>\n      <td>health_beauty</td>\n    </tr>\n    <tr>\n      <th>2</th>\n      <td>0000f46a3911fa3c0805444483337064</td>\n      <td>1.0</td>\n      <td>0.50</td>\n      <td>credit_card</td>\n      <td>stationery</td>\n    </tr>\n    <tr>\n      <th>3</th>\n      <td>0000f6ccb0745a6a4b88665a16c9f078</td>\n      <td>1.0</td>\n      <td>0.75</td>\n      <td>credit_card</td>\n      <td>telephony</td>\n    </tr>\n    <tr>\n      <th>4</th>\n      <td>0004aac84e0df4da2b147fca70cf8255</td>\n      <td>1.0</td>\n      <td>1.00</td>\n      <td>credit_card</td>\n      <td>telephony</td>\n    </tr>\n    <tr>\n      <th>...</th>\n      <td>...</td>\n      <td>...</td>\n      <td>...</td>\n      <td>...</td>\n      <td>...</td>\n    </tr>\n    <tr>\n      <th>91459</th>\n      <td>fffcf5a5ff07b0908bd4e2dbc735a684</td>\n      <td>1.0</td>\n      <td>1.00</td>\n      <td>credit_card</td>\n      <td>health_beauty</td>\n    </tr>\n    <tr>\n      <th>91460</th>\n      <td>fffea47cd6d3cc0a88bd621562a9d061</td>\n      <td>1.0</td>\n      <td>0.75</td>\n      <td>credit_card</td>\n      <td>baby</td>\n    </tr>\n    <tr>\n      <th>91461</th>\n      <td>ffff371b4d645b6ecea244b27531430a</td>\n      <td>1.0</td>\n      <td>1.00</td>\n      <td>credit_card</td>\n      <td>auto</td>\n    </tr>\n    <tr>\n      <th>91462</th>\n      <td>ffff5962728ec6157033ef9805bacc48</td>\n      <td>1.0</td>\n      <td>1.00</td>\n      <td>credit_card</td>\n      <td>watches_gifts</td>\n    </tr>\n    <tr>\n      <th>91463</th>\n      <td>ffffd2657e2aad2907e67c3e9daecbeb</td>\n      <td>1.0</td>\n      <td>1.00</td>\n      <td>credit_card</td>\n      <td>perfumery</td>\n    </tr>\n  </tbody>\n</table>\n<p>91464 rows × 5 columns</p>\n</div>"
     },
     "execution_count": 105,
     "metadata": {},
     "output_type": "execute_result"
    }
   ],
   "source": [
    "from functools import reduce\n",
    "df_result = reduce(lambda x,y: pd.merge(x,y, on='customer_unique_id', how='inner'), [df1, df2, df3, df4])\n",
    "df_result"
   ],
   "metadata": {
    "collapsed": false,
    "pycharm": {
     "name": "#%%\n"
    }
   }
  }
 ],
 "metadata": {
  "kernelspec": {
   "display_name": "Python 3",
   "language": "python",
   "name": "python3"
  },
  "language_info": {
   "codemirror_mode": {
    "name": "ipython",
    "version": 3
   },
   "file_extension": ".py",
   "mimetype": "text/x-python",
   "name": "python",
   "nbconvert_exporter": "python",
   "pygments_lexer": "ipython3",
   "version": "3.8.5"
  }
 },
 "nbformat": 4,
 "nbformat_minor": 5
}